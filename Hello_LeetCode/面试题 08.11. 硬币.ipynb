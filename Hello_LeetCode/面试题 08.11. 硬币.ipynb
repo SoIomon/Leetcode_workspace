{
 "cells": [
  {
   "cell_type": "markdown",
   "metadata": {},
   "source": [
    "硬币。给定数量不限的硬币，币值为25分、10分、5分和1分，编写代码计算n分有几种表示法。(结果可能会很大，你需要将结果模上1000000007)\n",
    "\n",
    "示例1:\n",
    "\n",
    " 输入: n = 5\n",
    " 输出：2\n",
    " 解释: 有两种方式可以凑成总金额:\n",
    "5=5\n",
    "5=1+1+1+1+1\n",
    "示例2:\n",
    "\n",
    " 输入: n = 10\n",
    " 输出：4\n",
    " 解释: 有四种方式可以凑成总金额:\n",
    "10=10\n",
    "10=5+5\n",
    "10=5+1+1+1+1+1\n",
    "10=1+1+1+1+1+1+1+1+1+1\n",
    "说明：\n",
    "\n",
    "注意:\n",
    "\n",
    "你可以假设：\n",
    "\n",
    "0 <= n (总金额) <= 1000000\n",
    "\n",
    "来源：力扣（LeetCode）\n",
    "链接：https://leetcode-cn.com/problems/coin-lcci\n",
    "著作权归领扣网络所有。商业转载请联系官方授权，非商业转载请注明出处。"
   ]
  },
  {
   "cell_type": "code",
   "execution_count": 10,
   "metadata": {},
   "outputs": [],
   "source": [
    "class Solution:\n",
    "    def waysToChange(self, n: int) -> int:\n",
    "        mod = 10**9 + 7\n",
    "        coins = [25, 10, 5, 1]\n",
    "\n",
    "        f = [1] + [0] * n\n",
    "        for coin in coins:\n",
    "            for i in range(coin, n + 1):\n",
    "                f[i] += f[i - coin]\n",
    "        return f[n] % mod\n"
   ]
  },
  {
   "cell_type": "code",
   "execution_count": 11,
   "metadata": {},
   "outputs": [
    {
     "data": {
      "text/plain": [
       "4"
      ]
     },
     "execution_count": 11,
     "metadata": {},
     "output_type": "execute_result"
    }
   ],
   "source": [
    "Solution().waysToChange(10)"
   ]
  },
  {
   "cell_type": "code",
   "execution_count": null,
   "metadata": {},
   "outputs": [],
   "source": []
  }
 ],
 "metadata": {
  "kernelspec": {
   "display_name": "Python 3",
   "language": "python",
   "name": "python3"
  },
  "language_info": {
   "codemirror_mode": {
    "name": "ipython",
    "version": 3
   },
   "file_extension": ".py",
   "mimetype": "text/x-python",
   "name": "python",
   "nbconvert_exporter": "python",
   "pygments_lexer": "ipython3",
   "version": "3.7.4"
  }
 },
 "nbformat": 4,
 "nbformat_minor": 4
}
