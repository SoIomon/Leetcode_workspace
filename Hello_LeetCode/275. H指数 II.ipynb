{
 "cells": [
  {
   "cell_type": "markdown",
   "metadata": {},
   "source": [
    "给定一位研究者论文被引用次数的数组（被引用次数是非负整数），数组已经按照升序排列。编写一个方法，计算出研究者的 h 指数。\n",
    "\n",
    "h 指数的定义: “h 代表“高引用次数”（high citations），一名科研人员的 h 指数是指他（她）的 （N 篇论文中）至多有 h 篇论文分别被引用了至少 h 次。（其余的 N - h 篇论文每篇被引用次数不多于 h 次。）\"\n",
    "\n",
    " \n",
    "\n",
    "示例:\n",
    "\n",
    "输入: citations = [0,1,3,5,6]\n",
    "输出: 3 \n",
    "解释: 给定数组表示研究者总共有 5 篇论文，每篇论文相应的被引用了 0, 1, 3, 5, 6 次。\n",
    "     由于研究者有 3 篇论文每篇至少被引用了 3 次，其余两篇论文每篇被引用不多于 3 次，所以她的 h 指数是 3。\n",
    " \n",
    "\n",
    "说明:\n",
    "\n",
    "如果 h 有多有种可能的值 ，h 指数是其中最大的那个。\n",
    "\n",
    " \n",
    "\n",
    "进阶：\n",
    "\n",
    "这是 H指数 的延伸题目，本题中的 citations 数组是保证有序的。\n",
    "你可以优化你的算法到对数时间复杂度吗？\n",
    "\n",
    "来源：力扣（LeetCode）\n",
    "链接：https://leetcode-cn.com/problems/h-index-ii\n",
    "著作权归领扣网络所有。商业转载请联系官方授权，非商业转载请注明出处。"
   ]
  },
  {
   "cell_type": "code",
   "execution_count": null,
   "metadata": {},
   "outputs": [],
   "source": [
    "class Solution:\n",
    "    def hIndex(self, citations: List[int]) -> int:\n",
    "        if citations == []:\n",
    "            return 0\n",
    "        n = len(citations)\n",
    "        left, right = 0, n - 1\n",
    "        while left <= right:\n",
    "            mid = left + (right - left) // 2\n",
    "            if citations[mid] == n - mid:\n",
    "                return n - mid\n",
    "            elif citations[mid] < n - mid:\n",
    "                left = mid + 1\n",
    "            else:\n",
    "                right = mid - 1\n",
    "        return n - left"
   ]
  }
 ],
 "metadata": {
  "kernelspec": {
   "display_name": "Python 3",
   "language": "python",
   "name": "python3"
  },
  "language_info": {
   "codemirror_mode": {
    "name": "ipython",
    "version": 3
   },
   "file_extension": ".py",
   "mimetype": "text/x-python",
   "name": "python",
   "nbconvert_exporter": "python",
   "pygments_lexer": "ipython3",
   "version": "3.7.4"
  }
 },
 "nbformat": 4,
 "nbformat_minor": 4
}
