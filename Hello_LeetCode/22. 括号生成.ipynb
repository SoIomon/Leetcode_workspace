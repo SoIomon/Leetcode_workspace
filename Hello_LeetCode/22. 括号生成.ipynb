{
 "cells": [
  {
   "cell_type": "markdown",
   "metadata": {},
   "source": [
    "数字 n 代表生成括号的对数，请你设计一个函数，用于能够生成所有可能的并且 有效的 括号组合。\n",
    "\n",
    " \n",
    "\n",
    "示例：\n",
    "\n",
    "输入：n = 3\n",
    "输出：[\n",
    "       \"((()))\",\n",
    "       \"(()())\",\n",
    "       \"(())()\",\n",
    "       \"()(())\",\n",
    "       \"()()()\"\n",
    "     ]\n",
    "\n",
    "来源：力扣（LeetCode）\n",
    "链接：https://leetcode-cn.com/problems/generate-parentheses\n",
    "著作权归领扣网络所有。商业转载请联系官方授权，非商业转载请注明出处。"
   ]
  },
  {
   "cell_type": "code",
   "execution_count": 3,
   "metadata": {},
   "outputs": [],
   "source": [
    "class Solution:\n",
    "    def generateParenthesis(self, n: int):\n",
    "        res = []\n",
    "        cur_str = ''\n",
    "\n",
    "        def dfs(cur_str, left, right):\n",
    "            if left == 0 and right == 0:\n",
    "                res.append(cur_str)\n",
    "                return\n",
    "            if right < left:\n",
    "                return\n",
    "            if left > 0:\n",
    "                dfs(cur_str + '(', left - 1, right)\n",
    "            if right > 0:\n",
    "                dfs(cur_str + ')', left, right - 1)\n",
    "\n",
    "        dfs(cur_str, n, n)\n",
    "        return res"
   ]
  },
  {
   "cell_type": "code",
   "execution_count": 4,
   "metadata": {},
   "outputs": [
    {
     "data": {
      "text/plain": [
       "['((()))', '(()())', '(())()', '()(())', '()()()']"
      ]
     },
     "execution_count": 4,
     "metadata": {},
     "output_type": "execute_result"
    }
   ],
   "source": [
    "Solution().generateParenthesis(3)"
   ]
  },
  {
   "cell_type": "code",
   "execution_count": null,
   "metadata": {},
   "outputs": [],
   "source": []
  }
 ],
 "metadata": {
  "kernelspec": {
   "display_name": "Python 3",
   "language": "python",
   "name": "python3"
  },
  "language_info": {
   "codemirror_mode": {
    "name": "ipython",
    "version": 3
   },
   "file_extension": ".py",
   "mimetype": "text/x-python",
   "name": "python",
   "nbconvert_exporter": "python",
   "pygments_lexer": "ipython3",
   "version": "3.7.4"
  }
 },
 "nbformat": 4,
 "nbformat_minor": 4
}
