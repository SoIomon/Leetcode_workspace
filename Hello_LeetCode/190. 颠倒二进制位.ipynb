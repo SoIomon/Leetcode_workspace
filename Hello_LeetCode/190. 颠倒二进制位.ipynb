{
 "cells": [
  {
   "cell_type": "markdown",
   "metadata": {},
   "source": [
    "颠倒给定的 32 位无符号整数的二进制位。\n",
    "\n",
    " \n",
    "\n",
    "示例 1：\n",
    "\n",
    "输入: 00000010100101000001111010011100\n",
    "输出: 00111001011110000010100101000000\n",
    "解释: 输入的二进制串 00000010100101000001111010011100 表示无符号整数 43261596，\n",
    "      因此返回 964176192，其二进制表示形式为 00111001011110000010100101000000。\n",
    "示例 2：\n",
    "\n",
    "输入：11111111111111111111111111111101\n",
    "输出：10111111111111111111111111111111\n",
    "解释：输入的二进制串 11111111111111111111111111111101 表示无符号整数 4294967293，\n",
    "      因此返回 3221225471 其二进制表示形式为 10101111110010110010011101101001。\n",
    "\n",
    "来源：力扣（LeetCode）\n",
    "链接：https://leetcode-cn.com/problems/reverse-bits\n",
    "著作权归领扣网络所有。商业转载请联系官方授权，非商业转载请注明出处。"
   ]
  },
  {
   "cell_type": "code",
   "execution_count": 1,
   "metadata": {},
   "outputs": [],
   "source": [
    "class Solution:\n",
    "    def reverseBits(self, n: int) -> int:\n",
    "        return int('0b'+bin(n)[2:].zfill(32)[::-1], 2)"
   ]
  },
  {
   "cell_type": "code",
   "execution_count": null,
   "metadata": {},
   "outputs": [],
   "source": []
  }
 ],
 "metadata": {
  "kernelspec": {
   "display_name": "Python 3",
   "language": "python",
   "name": "python3"
  },
  "language_info": {
   "codemirror_mode": {
    "name": "ipython",
    "version": 3
   },
   "file_extension": ".py",
   "mimetype": "text/x-python",
   "name": "python",
   "nbconvert_exporter": "python",
   "pygments_lexer": "ipython3",
   "version": "3.7.4"
  }
 },
 "nbformat": 4,
 "nbformat_minor": 4
}
