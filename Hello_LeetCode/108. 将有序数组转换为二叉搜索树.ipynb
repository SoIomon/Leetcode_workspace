{
 "cells": [
  {
   "cell_type": "code",
   "execution_count": 2,
   "metadata": {},
   "outputs": [],
   "source": [
    "# Definition for a binary tree node.\n",
    "class TreeNode:\n",
    "    def __init__(self, x):\n",
    "        self.val = x\n",
    "        self.left = None\n",
    "        self.right = None\n",
    "\n",
    "class Solution:\n",
    "    def sortedArrayToBST(self, nums) -> TreeNode:\n",
    "        if nums == []:\n",
    "            return None\n",
    "        elif len(nums) == 1:\n",
    "            return TreeNode(nums[0])\n",
    "        elif len(nums) == 2:\n",
    "            mid = len(nums) // 2\n",
    "            root = TreeNode(nums[mid])\n",
    "            root.left = self.sortedArrayToBST(nums[:mid])\n",
    "        else:\n",
    "            mid = len(nums) // 2\n",
    "            root = TreeNode(nums[mid])\n",
    "            root.left = self.sortedArrayToBST(nums[:mid])\n",
    "            root.right = self.sortedArrayToBST(nums[mid+1:])\n",
    "        return root"
   ]
  },
  {
   "cell_type": "code",
   "execution_count": null,
   "metadata": {},
   "outputs": [],
   "source": []
  }
 ],
 "metadata": {
  "kernelspec": {
   "display_name": "Python 3",
   "language": "python",
   "name": "python3"
  },
  "language_info": {
   "codemirror_mode": {
    "name": "ipython",
    "version": 3
   },
   "file_extension": ".py",
   "mimetype": "text/x-python",
   "name": "python",
   "nbconvert_exporter": "python",
   "pygments_lexer": "ipython3",
   "version": "3.7.4"
  }
 },
 "nbformat": 4,
 "nbformat_minor": 4
}
