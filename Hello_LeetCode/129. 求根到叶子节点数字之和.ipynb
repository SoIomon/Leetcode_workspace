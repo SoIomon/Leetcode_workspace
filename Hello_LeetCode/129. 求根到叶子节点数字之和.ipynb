{
 "cells": [
  {
   "cell_type": "markdown",
   "metadata": {},
   "source": [
    "给定一个二叉树，它的每个结点都存放一个 0-9 的数字，每条从根到叶子节点的路径都代表一个数字。\n",
    "\n",
    "例如，从根到叶子节点路径 1->2->3 代表数字 123。\n",
    "\n",
    "计算从根到叶子节点生成的所有数字之和。\n",
    "\n",
    "说明: 叶子节点是指没有子节点的节点。\n",
    "\n",
    "示例 1:\n",
    "\n",
    "输入: [1,2,3]\n",
    "    1\n",
    "   / \\\n",
    "  2   3\n",
    "输出: 25\n",
    "解释:\n",
    "从根到叶子节点路径 1->2 代表数字 12.\n",
    "从根到叶子节点路径 1->3 代表数字 13.\n",
    "因此，数字总和 = 12 + 13 = 25.\n",
    "示例 2:\n",
    "\n",
    "输入: [4,9,0,5,1]\n",
    "    4\n",
    "   / \\\n",
    "  9   0\n",
    " / \\\n",
    "5   1\n",
    "输出: 1026\n",
    "解释:\n",
    "从根到叶子节点路径 4->9->5 代表数字 495.\n",
    "从根到叶子节点路径 4->9->1 代表数字 491.\n",
    "从根到叶子节点路径 4->0 代表数字 40.\n",
    "因此，数字总和 = 495 + 491 + 40 = 1026.\n",
    "\n",
    "来源：力扣（LeetCode）\n",
    "链接：https://leetcode-cn.com/problems/sum-root-to-leaf-numbers\n",
    "著作权归领扣网络所有。商业转载请联系官方授权，非商业转载请注明出处。"
   ]
  },
  {
   "cell_type": "code",
   "execution_count": 1,
   "metadata": {},
   "outputs": [],
   "source": [
    "# Definition for a binary tree node.\n",
    "class TreeNode:\n",
    "    def __init__(self, x):\n",
    "        self.val = x\n",
    "        self.left = None\n",
    "        self.right = None\n",
    "\n",
    "class Solution:\n",
    "    def sumNumbers(self, root: TreeNode) -> int:\n",
    "        def helper(root, summary):\n",
    "            if root is None:\n",
    "                return 0\n",
    "            tmp = summary * 10 + root.val\n",
    "            if root.left is None and root.right is None:\n",
    "                return tmp\n",
    "            else:\n",
    "                return helper(root.left, tmp) + helper(root.right, tmp)\n",
    "        return helper(root, 0)"
   ]
  },
  {
   "cell_type": "code",
   "execution_count": null,
   "metadata": {},
   "outputs": [],
   "source": []
  }
 ],
 "metadata": {
  "kernelspec": {
   "display_name": "Python 3",
   "language": "python",
   "name": "python3"
  },
  "language_info": {
   "codemirror_mode": {
    "name": "ipython",
    "version": 3
   },
   "file_extension": ".py",
   "mimetype": "text/x-python",
   "name": "python",
   "nbconvert_exporter": "python",
   "pygments_lexer": "ipython3",
   "version": "3.7.4"
  }
 },
 "nbformat": 4,
 "nbformat_minor": 4
}
