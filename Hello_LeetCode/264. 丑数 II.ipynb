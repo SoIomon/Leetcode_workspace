{
 "cells": [
  {
   "cell_type": "markdown",
   "metadata": {},
   "source": [
    "编写一个程序，找出第 n 个丑数。\n",
    "\n",
    "丑数就是只包含质因数 2, 3, 5 的正整数。\n",
    "\n",
    "示例:\n",
    "\n",
    "输入: n = 10\n",
    "输出: 12\n",
    "解释: 1, 2, 3, 4, 5, 6, 8, 9, 10, 12 是前 10 个丑数。\n",
    "说明:  \n",
    "\n",
    "1 是丑数。\n",
    "n 不超过1690。\n",
    "\n",
    "来源：力扣（LeetCode）\n",
    "链接：https://leetcode-cn.com/problems/ugly-number-ii\n",
    "著作权归领扣网络所有。商业转载请联系官方授权，非商业转载请注明出处。"
   ]
  },
  {
   "cell_type": "code",
   "execution_count": 5,
   "metadata": {},
   "outputs": [],
   "source": [
    "class Solution:\n",
    "    def nthUglyNumber(self, n: int) -> int:\n",
    "        ugly_nums = [1]\n",
    "        factor = [2,3,5]\n",
    "        while len(ugly_nums) < n:\n",
    "            num = ugly_nums[-1] + 1\n",
    "            tmp_flag = True\n",
    "            while tmp_flag:\n",
    "                for i in ugly_nums[::-1]:\n",
    "                    if num / i in factor:\n",
    "                        tmp_flag = False\n",
    "                        ugly_nums.append(num)\n",
    "                        break\n",
    "                num += 1\n",
    "        return ugly_nums[n-1]"
   ]
  },
  {
   "cell_type": "code",
   "execution_count": 16,
   "metadata": {},
   "outputs": [],
   "source": [
    "class Ugly:\n",
    "    def __init__(self):\n",
    "        self.nums = nums = [1, ]\n",
    "        i2 = i3 = i5 = 0\n",
    "\n",
    "        for i in range(1, 1690):\n",
    "            ugly = min(nums[i2] * 2, nums[i3] * 3, nums[i5] * 5)\n",
    "            nums.append(ugly)\n",
    "\n",
    "            if ugly == nums[i2] * 2: \n",
    "                i2 += 1\n",
    "            if ugly == nums[i3] * 3:\n",
    "                i3 += 1\n",
    "            if ugly == nums[i5] * 5:\n",
    "                i5 += 1\n",
    "            \n",
    "class Solution:\n",
    "    u = Ugly()\n",
    "    def nthUglyNumber(self, n):\n",
    "        return self.u.nums[n - 1]"
   ]
  },
  {
   "cell_type": "code",
   "execution_count": 17,
   "metadata": {},
   "outputs": [
    {
     "data": {
      "text/plain": [
       "8"
      ]
     },
     "execution_count": 17,
     "metadata": {},
     "output_type": "execute_result"
    }
   ],
   "source": [
    "Solution().nthUglyNumber(7)"
   ]
  },
  {
   "cell_type": "code",
   "execution_count": 18,
   "metadata": {},
   "outputs": [
    {
     "data": {
      "text/plain": [
       "16875"
      ]
     },
     "execution_count": 18,
     "metadata": {},
     "output_type": "execute_result"
    }
   ],
   "source": [
    "Solution().nthUglyNumber(202)"
   ]
  },
  {
   "cell_type": "code",
   "execution_count": 19,
   "metadata": {},
   "outputs": [
    {
     "data": {
      "text/plain": [
       "2123366400"
      ]
     },
     "execution_count": 19,
     "metadata": {},
     "output_type": "execute_result"
    }
   ],
   "source": [
    "Solution().nthUglyNumber(1690)"
   ]
  },
  {
   "cell_type": "code",
   "execution_count": null,
   "metadata": {},
   "outputs": [],
   "source": []
  }
 ],
 "metadata": {
  "kernelspec": {
   "display_name": "Python 3",
   "language": "python",
   "name": "python3"
  },
  "language_info": {
   "codemirror_mode": {
    "name": "ipython",
    "version": 3
   },
   "file_extension": ".py",
   "mimetype": "text/x-python",
   "name": "python",
   "nbconvert_exporter": "python",
   "pygments_lexer": "ipython3",
   "version": "3.7.4"
  }
 },
 "nbformat": 4,
 "nbformat_minor": 4
}
