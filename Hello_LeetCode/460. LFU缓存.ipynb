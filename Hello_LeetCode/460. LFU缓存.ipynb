{
 "cells": [
  {
   "cell_type": "markdown",
   "metadata": {},
   "source": [
    "设计并实现最不经常使用（LFU）缓存的数据结构。它应该支持以下操作：get 和 put。\n",
    "\n",
    "get(key) - 如果键存在于缓存中，则获取键的值（总是正数），否则返回 -1。\n",
    "put(key, value) - 如果键不存在，请设置或插入值。当缓存达到其容量时，它应该在插入新项目之前，使最不经常使用的项目无效。在此问题中，当存在平局（即两个或更多个键具有相同使用频率）时，最近最少使用的键将被去除。\n",
    "\n",
    "进阶：\n",
    "你是否可以在 O(1) 时间复杂度内执行两项操作？\n",
    "\n",
    "示例：\n",
    "\n",
    "LFUCache cache = new LFUCache( 2 /* capacity (缓存容量) */ );\n",
    "\n",
    "cache.put(1, 1);\n",
    "\n",
    "cache.put(2, 2);\n",
    "\n",
    "cache.get(1);       // 返回 1\n",
    "\n",
    "cache.put(3, 3);    // 去除 key 2\n",
    "\n",
    "cache.get(2);       // 返回 -1 (未找到key 2)\n",
    "\n",
    "cache.get(3);       // 返回 3\n",
    "\n",
    "cache.put(4, 4);    // 去除 key 1\n",
    "\n",
    "cache.get(1);       // 返回 -1 (未找到 key 1)\n",
    "\n",
    "cache.get(3);       // 返回 3\n",
    "\n",
    "cache.get(4);       // 返回 4\n",
    "\n",
    "来源：力扣（LeetCode）\n",
    "链接：https://leetcode-cn.com/problems/lfu-cache\n",
    "著作权归领扣网络所有。商业转载请联系官方授权，非商业转载请注明出处。"
   ]
  },
  {
   "cell_type": "code",
   "execution_count": 56,
   "metadata": {},
   "outputs": [],
   "source": [
    "class LFUCache:\n",
    "\n",
    "    def __init__(self, capacity: int):\n",
    "        # 容量\n",
    "        self.capacity = capacity\n",
    "        # 频率\n",
    "        self.frequency = {}\n",
    "        # 时序\n",
    "        self.timesqe = []\n",
    "        # 数据\n",
    "        self.data = {}\n",
    "\n",
    "    def get(self, key: int) -> int:\n",
    "        if key in self.data:\n",
    "            # 维护频率和时序信息\n",
    "            self.frequency[key] += 1\n",
    "            self.timesqe.remove(key)\n",
    "            self.timesqe.append(key)\n",
    "            return self.data[key]\n",
    "        else:\n",
    "            return -1\n",
    "\n",
    "    def findDelkey(self) ->int:\n",
    "        min_fre = [(v,k) for k,v in self.frequency.items()]\n",
    "        min_fre.sort()\n",
    "        tmp = [min_fre[0][1]]\n",
    "        for v,k in min_fre[1:]:\n",
    "            if v == min_fre[0][0]:\n",
    "                tmp.append(k)\n",
    "            else:\n",
    "                break\n",
    "        last = self.timesqe.index(tmp[0])\n",
    "        ans = tmp[0]\n",
    "        for key in tmp[1:]:\n",
    "            if self.timesqe.index(key) < last:\n",
    "                ans = key\n",
    "                last = self.timesqe.index[ans]\n",
    "        return ans\n",
    "        \n",
    "    def put(self, key: int, value: int) -> None:\n",
    "        if key in self.data:\n",
    "            self.data[key] = value\n",
    "            self.frequency[key] += 1\n",
    "            self.timesqe.remove(key)\n",
    "            self.timesqe.append(key)\n",
    "        else:\n",
    "            # 超出容量需要删除节点\n",
    "            if len(self.data) >= self.capacity:\n",
    "                delkey = self.findDelkey()\n",
    "                self.data.pop(delkey)\n",
    "                self.frequency.pop(delkey)\n",
    "                self.timesqe.remove(delkey)\n",
    "            # 更新节点信息，维护数据,频率和时序\n",
    "            self.data[key] = value\n",
    "            self.frequency[key] = 0\n",
    "            self.timesqe.append(key)\n",
    "    \n",
    "                \n",
    "\n",
    "\n",
    "# Your LFUCache object will be instantiated and called as such:\n",
    "# obj = LFUCache(capacity)\n",
    "# param_1 = obj.get(key)\n",
    "# obj.put(key,value)"
   ]
  },
  {
   "cell_type": "code",
   "execution_count": 61,
   "metadata": {},
   "outputs": [
    {
     "name": "stdout",
     "output_type": "stream",
     "text": [
      "1\n",
      "-1\n",
      "3\n",
      "-1\n",
      "3\n",
      "4\n"
     ]
    }
   ],
   "source": [
    "cache = LFUCache( 2 );\n",
    "\n",
    "cache.put(1, 1);\n",
    "cache.put(2, 2);\n",
    "print(cache.get(1));       # 返回 1\n",
    "cache.put(3, 3);    # 去除 key 2\n",
    "print(cache.get(2));       # 返回 -1 (未找到key 2)\n",
    "print(cache.get(3));       # 返回 3\n",
    "cache.put(4, 4);    # 去除 key 1\n",
    "print(cache.get(1));       # 返回 -1 (未找到 key 1)\n",
    "print(cache.get(3));       # 返回 3\n",
    "print(cache.get(4));       # 返回 4"
   ]
  },
  {
   "cell_type": "code",
   "execution_count": 10,
   "metadata": {},
   "outputs": [
    {
     "data": {
      "text/plain": [
       "[-1, -1]"
      ]
     },
     "execution_count": 10,
     "metadata": {},
     "output_type": "execute_result"
    }
   ],
   "source": [
    "a = [-1] * 2\n",
    "a"
   ]
  },
  {
   "cell_type": "code",
   "execution_count": 49,
   "metadata": {},
   "outputs": [
    {
     "data": {
      "text/plain": [
       "['a', 'c']"
      ]
     },
     "execution_count": 49,
     "metadata": {},
     "output_type": "execute_result"
    }
   ],
   "source": [
    "a = {'a':2,'b':5,'c':2}\n",
    "b = [(v,k) for k,v in a.items()]\n",
    "b.sort()\n",
    "tmp = [b[0][1]]\n",
    "for v,k in b[1:]:\n",
    "    if v == b[0][0]:\n",
    "        tmp.append(k)\n",
    "    else:break\n",
    "tmp"
   ]
  },
  {
   "cell_type": "code",
   "execution_count": 50,
   "metadata": {},
   "outputs": [
    {
     "data": {
      "text/plain": [
       "{'b': 5, 'c': 2}"
      ]
     },
     "execution_count": 50,
     "metadata": {},
     "output_type": "execute_result"
    }
   ],
   "source": [
    "a\n",
    "a.pop(\"a\")\n",
    "a"
   ]
  },
  {
   "cell_type": "code",
   "execution_count": 51,
   "metadata": {},
   "outputs": [
    {
     "data": {
      "text/plain": [
       "[1, 1, 2]"
      ]
     },
     "execution_count": 51,
     "metadata": {},
     "output_type": "execute_result"
    }
   ],
   "source": [
    "a = [1,1,1,2]\n",
    "try:\n",
    "    a.remove(3)\n",
    "except ValueError:\n",
    "    pass\n",
    "a.index(1)\n",
    "a.remove(1)\n",
    "a"
   ]
  },
  {
   "cell_type": "code",
   "execution_count": null,
   "metadata": {},
   "outputs": [],
   "source": []
  }
 ],
 "metadata": {
  "kernelspec": {
   "display_name": "Python 3",
   "language": "python",
   "name": "python3"
  },
  "language_info": {
   "codemirror_mode": {
    "name": "ipython",
    "version": 3
   },
   "file_extension": ".py",
   "mimetype": "text/x-python",
   "name": "python",
   "nbconvert_exporter": "python",
   "pygments_lexer": "ipython3",
   "version": "3.7.4"
  }
 },
 "nbformat": 4,
 "nbformat_minor": 4
}
