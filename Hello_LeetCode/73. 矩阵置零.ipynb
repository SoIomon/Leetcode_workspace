{
 "cells": [
  {
   "cell_type": "code",
   "execution_count": null,
   "metadata": {},
   "outputs": [],
   "source": [
    "class Solution(object):\n",
    "    def setZeroes(self, matrix):\n",
    "        is_col = False\n",
    "        R = len(matrix)\n",
    "        C = len(matrix[0])\n",
    "        for i in range(R):\n",
    "\n",
    "            if matrix[i][0] == 0:\n",
    "                is_col = True\n",
    "            for j in range(1, C):\n",
    "                if matrix[i][j]  == 0:\n",
    "                    matrix[0][j] = 0\n",
    "                    matrix[i][0] = 0\n",
    "\n",
    "        for i in range(1, R):\n",
    "            for j in range(1, C):\n",
    "                if not matrix[i][0] or not matrix[0][j]:\n",
    "                    matrix[i][j] = 0\n",
    "\n",
    "        if matrix[0][0] == 0:\n",
    "            for j in range(C):\n",
    "                matrix[0][j] = 0\n",
    "\n",
    "        if is_col:\n",
    "            for i in range(R):\n",
    "                matrix[i][0] = 0"
   ]
  }
 ],
 "metadata": {
  "kernelspec": {
   "display_name": "Python 3",
   "language": "python",
   "name": "python3"
  },
  "language_info": {
   "codemirror_mode": {
    "name": "ipython",
    "version": 3
   },
   "file_extension": ".py",
   "mimetype": "text/x-python",
   "name": "python",
   "nbconvert_exporter": "python",
   "pygments_lexer": "ipython3",
   "version": "3.7.4"
  }
 },
 "nbformat": 4,
 "nbformat_minor": 4
}
