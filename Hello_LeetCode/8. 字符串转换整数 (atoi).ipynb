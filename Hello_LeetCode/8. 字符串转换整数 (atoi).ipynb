{
 "cells": [
  {
   "cell_type": "markdown",
   "metadata": {},
   "source": [
    "\n",
    "请你来实现一个 atoi 函数，使其能将字符串转换成整数。\n",
    "\n",
    "首先，该函数会根据需要丢弃无用的开头空格字符，直到寻找到第一个非空格的字符为止。接下来的转化规则如下：\n",
    "\n",
    "如果第一个非空字符为正或者负号时，则将该符号与之后面尽可能多的连续数字字符组合起来，形成一个有符号整数。\n",
    "假如第一个非空字符是数字，则直接将其与之后连续的数字字符组合起来，形成一个整数。\n",
    "该字符串在有效的整数部分之后也可能会存在多余的字符，那么这些字符可以被忽略，它们对函数不应该造成影响。\n",
    "注意：假如该字符串中的第一个非空格字符不是一个有效整数字符、字符串为空或字符串仅包含空白字符时，则你的函数不需要进行转换，即无法进行有效转换。\n",
    "\n",
    "在任何情况下，若函数不能进行有效的转换时，请返回 0 。\n",
    "\n",
    "提示：\n",
    "\n",
    "本题中的空白字符只包括空格字符 ' ' 。\n",
    "假设我们的环境只能存储 32 位大小的有符号整数，那么其数值范围为 [−231,  231 − 1]。如果数值超过这个范围，请返回  INT_MAX (231 − 1) 或 INT_MIN (−231) 。\n",
    "\n",
    "示例 1:\n",
    "\n",
    "输入: \"42\"\n",
    "输出: 42\n",
    "示例 2:\n",
    "\n",
    "输入: \"   -42\"\n",
    "输出: -42\n",
    "解释: 第一个非空白字符为 '-', 它是一个负号。\n",
    "     我们尽可能将负号与后面所有连续出现的数字组合起来，最后得到 -42 。\n",
    "示例 3:\n",
    "\n",
    "输入: \"4193 with words\"\n",
    "输出: 4193\n",
    "解释: 转换截止于数字 '3' ，因为它的下一个字符不为数字。\n",
    "示例 4:\n",
    "\n",
    "输入: \"words and 987\"\n",
    "输出: 0\n",
    "解释: 第一个非空字符是 'w', 但它不是数字或正、负号。\n",
    "     因此无法执行有效的转换。\n",
    "示例 5:\n",
    "\n",
    "输入: \"-91283472332\"\n",
    "输出: -2147483648\n",
    "解释: 数字 \"-91283472332\" 超过 32 位有符号整数范围。 \n",
    "     因此返回 INT_MIN (−231) 。\n",
    "\n",
    "来源：力扣（LeetCode）\n",
    "链接：https://leetcode-cn.com/problems/string-to-integer-atoi\n",
    "著作权归领扣网络所有。商业转载请联系官方授权，非商业转载请注明出处。"
   ]
  },
  {
   "cell_type": "code",
   "execution_count": 61,
   "metadata": {},
   "outputs": [],
   "source": [
    "def myAtoi(string: str) -> int:\n",
    "    INT_MIN = -2**31\n",
    "    INT_MAX = 2**31 - 1\n",
    "    max_length = len(str(INT_MIN)) \n",
    "    res = ''\n",
    "    start_flag = -1\n",
    "    for i, v in enumerate(string):\n",
    "        if start_flag == -1:\n",
    "            if str.isspace(v):\n",
    "                pass\n",
    "            elif v == '-' or str.isdigit(v) or v == '+':\n",
    "                start_flag = 0\n",
    "                res += v\n",
    "            else:\n",
    "                return 0\n",
    "        elif start_flag == 0:\n",
    "            if str.isdigit(v):\n",
    "                res += v\n",
    "#                 if len(res) > max_length:\n",
    "#                     start_flag = 1\n",
    "            else:\n",
    "                start_flag = 1\n",
    "        else:\n",
    "            try:\n",
    "                res = int(res)\n",
    "            except ValueError:\n",
    "                return 0\n",
    "            if res >= INT_MAX:\n",
    "                return INT_MAX\n",
    "            if res <= INT_MIN:\n",
    "                return INT_MIN\n",
    "            return res\n",
    "    if res == '' or res == '-' or res == '+':\n",
    "        return 0\n",
    "    res = int(res)\n",
    "    if res >= INT_MAX:\n",
    "        return INT_MAX\n",
    "    if res <= INT_MIN:\n",
    "        return INT_MIN\n",
    "    return res"
   ]
  },
  {
   "cell_type": "code",
   "execution_count": 63,
   "metadata": {},
   "outputs": [],
   "source": [
    "def myAtoi(string: str) -> int:\n",
    "    pass"
   ]
  },
  {
   "cell_type": "code",
   "execution_count": 64,
   "metadata": {},
   "outputs": [
    {
     "data": {
      "text/plain": [
       "False"
      ]
     },
     "execution_count": 64,
     "metadata": {},
     "output_type": "execute_result"
    }
   ],
   "source": [
    "str.isalpha('4')"
   ]
  },
  {
   "cell_type": "code",
   "execution_count": 65,
   "metadata": {},
   "outputs": [
    {
     "name": "stdout",
     "output_type": "stream",
     "text": [
      "0\n"
     ]
    }
   ],
   "source": [
    "a = '+'\n",
    "try:\n",
    "    int(a)\n",
    "except ValueError:\n",
    "    print(0)"
   ]
  },
  {
   "cell_type": "code",
   "execution_count": null,
   "metadata": {},
   "outputs": [],
   "source": []
  }
 ],
 "metadata": {
  "kernelspec": {
   "display_name": "Python 3",
   "language": "python",
   "name": "python3"
  },
  "language_info": {
   "codemirror_mode": {
    "name": "ipython",
    "version": 3
   },
   "file_extension": ".py",
   "mimetype": "text/x-python",
   "name": "python",
   "nbconvert_exporter": "python",
   "pygments_lexer": "ipython3",
   "version": "3.7.4"
  }
 },
 "nbformat": 4,
 "nbformat_minor": 4
}
