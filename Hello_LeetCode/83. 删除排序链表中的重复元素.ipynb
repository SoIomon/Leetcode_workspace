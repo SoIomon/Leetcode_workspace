{
 "cells": [
  {
   "cell_type": "markdown",
   "metadata": {},
   "source": [
    "给定一个排序链表，删除所有重复的元素，使得每个元素只出现一次。\n",
    "\n",
    "示例 1:\n",
    "\n",
    "输入: 1->1->2\n",
    "输出: 1->2\n",
    "示例 2:\n",
    "\n",
    "输入: 1->1->2->3->3\n",
    "输出: 1->2->3\n",
    "\n",
    "来源：力扣（LeetCode）\n",
    "链接：https://leetcode-cn.com/problems/remove-duplicates-from-sorted-list\n",
    "著作权归领扣网络所有。商业转载请联系官方授权，非商业转载请注明出处。"
   ]
  },
  {
   "cell_type": "code",
   "execution_count": 1,
   "metadata": {},
   "outputs": [],
   "source": [
    "# Definition for singly-linked list.\n",
    "class ListNode:\n",
    "    def __init__(self, x):\n",
    "        self.val = x\n",
    "        self.next = None"
   ]
  },
  {
   "cell_type": "code",
   "execution_count": 8,
   "metadata": {},
   "outputs": [],
   "source": [
    "def deleteDuplicates(head: ListNode) -> ListNode:\n",
    "    if head is None:\n",
    "        return head\n",
    "    p = head\n",
    "    q = head\n",
    "    while p is not None:\n",
    "        if p.val != q.val:\n",
    "            q.next = p\n",
    "            q = q.next\n",
    "        p = p.next\n",
    "    q.next = None\n",
    "    return head"
   ]
  },
  {
   "cell_type": "code",
   "execution_count": null,
   "metadata": {},
   "outputs": [],
   "source": []
  }
 ],
 "metadata": {
  "kernelspec": {
   "display_name": "Python 3",
   "language": "python",
   "name": "python3"
  },
  "language_info": {
   "codemirror_mode": {
    "name": "ipython",
    "version": 3
   },
   "file_extension": ".py",
   "mimetype": "text/x-python",
   "name": "python",
   "nbconvert_exporter": "python",
   "pygments_lexer": "ipython3",
   "version": "3.7.4"
  }
 },
 "nbformat": 4,
 "nbformat_minor": 4
}
