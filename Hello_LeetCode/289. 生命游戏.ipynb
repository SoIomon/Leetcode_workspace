{
 "cells": [
  {
   "cell_type": "markdown",
   "metadata": {},
   "source": [
    "根据 百度百科 ，生命游戏，简称为生命，是英国数学家约翰·何顿·康威在 1970 年发明的细胞自动机。\n",
    "\n",
    "给定一个包含 m × n 个格子的面板，每一个格子都可以看成是一个细胞。每个细胞都具有一个初始状态：1 即为活细胞（live），或 0 即为死细胞（dead）。每个细胞与其八个相邻位置（水平，垂直，对角线）的细胞都遵循以下四条生存定律：\n",
    "\n",
    "如果活细胞周围八个位置的活细胞数少于两个，则该位置活细胞死亡；\n",
    "如果活细胞周围八个位置有两个或三个活细胞，则该位置活细胞仍然存活；\n",
    "如果活细胞周围八个位置有超过三个活细胞，则该位置活细胞死亡；\n",
    "如果死细胞周围正好有三个活细胞，则该位置死细胞复活；\n",
    "根据当前状态，写一个函数来计算面板上所有细胞的下一个（一次更新后的）状态。下一个状态是通过将上述规则同时应用于当前状态下的每个细胞所形成的，其中细胞的出生和死亡是同时发生的。\n",
    "\n",
    " \n",
    "\n",
    "示例：\n",
    "\n",
    "输入： \n",
    "[\n",
    "  [0,1,0],\n",
    "  [0,0,1],\n",
    "  [1,1,1],\n",
    "  [0,0,0]\n",
    "]\n",
    "输出：\n",
    "[\n",
    "  [0,0,0],\n",
    "  [1,0,1],\n",
    "  [0,1,1],\n",
    "  [0,1,0]\n",
    "]\n",
    " c\n",
    "\n",
    "进阶：\n",
    "\n",
    "你可以使用原地算法解决本题吗？请注意，面板上所有格子需要同时被更新：你不能先更新某些格子，然后使用它们的更新后的值再更新其他格子。\n",
    "本题中，我们使用二维数组来表示面板。原则上，面板是无限的，但当活细胞侵占了面板边界时会造成问题。你将如何解决这些问题？\n",
    "\n",
    "来源：力扣（LeetCode）\n",
    "链接：https://leetcode-cn.com/problems/game-of-lif\n",
    "著作权归领扣网络所有。商业转载请联系官方授权，非商业转载请注明出处。"
   ]
  },
  {
   "cell_type": "code",
   "execution_count": 51,
   "metadata": {},
   "outputs": [],
   "source": [
    "def gameOfLife(board) -> None:\n",
    "        \"\"\"\n",
    "        Do not return anything, modify board in-place instead.\n",
    "        \"\"\"\n",
    "        n = len(board)\n",
    "        m = len(board[0])\n",
    "        direction = [(1,0), (-1,0), (0,1), (0,-1), (-1, 1), (-1, -1), (1, 1), ( 1, -1)]\n",
    "        \n",
    "        for x in range(n):\n",
    "            for y in range(m):\n",
    "                ctn = 0\n",
    "                for dx,dy in direction:\n",
    "                    if 0<= x + dx < n and 0<= y + dy < m:\n",
    "                        ctn += board[x + dx][y + dy] % 10\n",
    "                if board[x][y]%10 == 1:\n",
    "                    if ctn == 2 or ctn == 3:\n",
    "                        pass\n",
    "                    else:\n",
    "                        board[x][y] += 20\n",
    "                else:\n",
    "                    if ctn == 3:\n",
    "                        board[x][y] += 10\n",
    "        for i in range(n):\n",
    "            for j in range(m):\n",
    "                if board[i][j] == 21:\n",
    "                    board[i][j] = 0\n",
    "                if board[i][j] == 10:\n",
    "                    board[i][j] = 1"
   ]
  },
  {
   "cell_type": "code",
   "execution_count": 52,
   "metadata": {},
   "outputs": [
    {
     "data": {
      "text/plain": [
       "[[0, 0, 0], [1, 0, 1], [0, 1, 1], [0, 1, 0]]"
      ]
     },
     "execution_count": 52,
     "metadata": {},
     "output_type": "execute_result"
    }
   ],
   "source": [
    "a = [ [0,1,0], [0,0,1], [1,1,1], [0,0,0] ]\n",
    "gameOfLife(a)\n",
    "a"
   ]
  },
  {
   "cell_type": "code",
   "execution_count": null,
   "metadata": {},
   "outputs": [],
   "source": []
  }
 ],
 "metadata": {
  "kernelspec": {
   "display_name": "Python 3",
   "language": "python",
   "name": "python3"
  },
  "language_info": {
   "codemirror_mode": {
    "name": "ipython",
    "version": 3
   },
   "file_extension": ".py",
   "mimetype": "text/x-python",
   "name": "python",
   "nbconvert_exporter": "python",
   "pygments_lexer": "ipython3",
   "version": "3.7.4"
  }
 },
 "nbformat": 4,
 "nbformat_minor": 4
}
