{
 "cells": [
  {
   "cell_type": "markdown",
   "metadata": {},
   "source": [
    "「外观数列」是一个整数序列，从数字 1 开始，序列中的每一项都是对前一项的描述。前五项如下：\n",
    "\n",
    "1.     1\n",
    "2.     11\n",
    "3.     21\n",
    "4.     1211\n",
    "5.     111221\n",
    "1 被读作  \"one 1\"  (\"一个一\") , 即 11。\n",
    "11 被读作 \"two 1s\" (\"两个一\"）, 即 21。\n",
    "21 被读作 \"one 2\",  \"one 1\" （\"一个二\" ,  \"一个一\") , 即 1211。\n",
    "\n",
    "给定一个正整数 n（1 ≤ n ≤ 30），输出外观数列的第 n 项。\n",
    "\n",
    "注意：整数序列中的每一项将表示为一个字符串。\n",
    "\n",
    " \n",
    "\n",
    "示例 1:\n",
    "\n",
    "输入: 1\n",
    "输出: \"1\"\n",
    "解释：这是一个基本样例。\n",
    "示例 2:\n",
    "\n",
    "输入: 4\n",
    "输出: \"1211\"\n",
    "解释：当 n = 3 时，序列是 \"21\"，其中我们有 \"2\" 和 \"1\" 两组，\"2\" 可以读作 \"12\"，也就是出现频次 = 1 而 值 = 2；类似 \"1\" 可以读作 \"11\"。所以答案是 \"12\" 和 \"11\" 组合在一起，也就是 \"1211\"。\n",
    "\n",
    "来源：力扣（LeetCode）\n",
    "链接：https://leetcode-cn.com/problems/count-and-say\n",
    "著作权归领扣网络所有。商业转载请联系官方授权，非商业转载请注明出处。"
   ]
  },
  {
   "cell_type": "code",
   "execution_count": 28,
   "metadata": {},
   "outputs": [],
   "source": [
    "def countAndSay(n: int) -> str:\n",
    "    res = '1'\n",
    "    for i in range(1,n):\n",
    "        tmp = ''\n",
    "        count = 0\n",
    "        now_letter = res[0]\n",
    "        for i in range(len(res)):\n",
    "            if res[i] == now_letter:\n",
    "                count += 1\n",
    "            else:\n",
    "                tmp += str(count) + now_letter\n",
    "                now_letter = res[i]\n",
    "                count = 1\n",
    "        res = tmp + str(count) + now_letter\n",
    "    return res"
   ]
  },
  {
   "cell_type": "code",
   "execution_count": 34,
   "metadata": {},
   "outputs": [
    {
     "data": {
      "text/plain": [
       "'111221'"
      ]
     },
     "execution_count": 34,
     "metadata": {},
     "output_type": "execute_result"
    }
   ],
   "source": [
    "countAndSay(5)"
   ]
  },
  {
   "cell_type": "code",
   "execution_count": null,
   "metadata": {},
   "outputs": [],
   "source": []
  }
 ],
 "metadata": {
  "kernelspec": {
   "display_name": "Python 3",
   "language": "python",
   "name": "python3"
  },
  "language_info": {
   "codemirror_mode": {
    "name": "ipython",
    "version": 3
   },
   "file_extension": ".py",
   "mimetype": "text/x-python",
   "name": "python",
   "nbconvert_exporter": "python",
   "pygments_lexer": "ipython3",
   "version": "3.7.4"
  }
 },
 "nbformat": 4,
 "nbformat_minor": 4
}
