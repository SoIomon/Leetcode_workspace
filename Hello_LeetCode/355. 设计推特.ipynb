{
 "cells": [
  {
   "cell_type": "markdown",
   "metadata": {},
   "source": [
    "设计一个简化版的推特(Twitter)，可以让用户实现发送推文，关注/取消关注其他用户，能够看见关注人（包括自己）的最近十条推文。你的设计需要支持以下的几个功能：\n",
    "\n",
    "postTweet(userId, tweetId): 创建一条新的推文\n",
    "getNewsFeed(userId): 检索最近的十条推文。每个推文都必须是由此用户关注的人或者是用户自己发出的。推文必须按照时间顺序由最近的开始排序。\n",
    "follow(followerId, followeeId): 关注一个用户\n",
    "unfollow(followerId, followeeId): 取消关注一个用户\n",
    "示例:\n",
    "\n",
    "Twitter twitter = new Twitter();\n",
    "\n",
    "// 用户1发送了一条新推文 (用户id = 1, 推文id = 5).\n",
    "twitter.postTweet(1, 5);\n",
    "\n",
    "// 用户1的获取推文应当返回一个列表，其中包含一个id为5的推文.\n",
    "twitter.getNewsFeed(1);\n",
    "\n",
    "// 用户1关注了用户2.\n",
    "twitter.follow(1, 2);\n",
    "\n",
    "// 用户2发送了一个新推文 (推文id = 6).\n",
    "twitter.postTweet(2, 6);\n",
    "\n",
    "// 用户1的获取推文应当返回一个列表，其中包含两个推文，id分别为 -> [6, 5].\n",
    "// 推文id6应当在推文id5之前，因为它是在5之后发送的.\n",
    "twitter.getNewsFeed(1);\n",
    "\n",
    "// 用户1取消关注了用户2.\n",
    "twitter.unfollow(1, 2);\n",
    "\n",
    "// 用户1的获取推文应当返回一个列表，其中包含一个id为5的推文.\n",
    "// 因为用户1已经不再关注用户2.\n",
    "twitter.getNewsFeed(1);\n",
    "\n",
    "来源：力扣（LeetCode）\n",
    "链接：https://leetcode-cn.com/problems/design-twitter\n",
    "著作权归领扣网络所有。商业转载请联系官方授权，非商业转载请注明出处。"
   ]
  },
  {
   "cell_type": "code",
   "execution_count": 1,
   "metadata": {},
   "outputs": [],
   "source": [
    "from typing import List"
   ]
  },
  {
   "cell_type": "code",
   "execution_count": 6,
   "metadata": {},
   "outputs": [],
   "source": [
    "class Twitter:\n",
    "\n",
    "    def __init__(self):\n",
    "        self.users = {}\n",
    "        self.tweets_seq = []\n",
    "        \n",
    "\n",
    "    def postTweet(self, userId: int, tweetId: int) -> None:\n",
    "        if userId not in self.users:\n",
    "            self.users[userId] = [userId]\n",
    "        self.tweets_seq.append([userId, tweetId])\n",
    "            \n",
    "\n",
    "    def getNewsFeed(self, userId: int) -> List[int]:\n",
    "        if userId not in self.users:\n",
    "            self.users[userId] = [userId]\n",
    "        res = []\n",
    "        if self.tweets_seq:\n",
    "            for tweet in self.tweets_seq[::-1]:\n",
    "                if tweet[0] in self.users[userId]:\n",
    "                    res.append(tweet[1])\n",
    "        return res[:10]\n",
    "\n",
    "\n",
    "    def follow(self, followerId: int, followeeId: int) -> None:\n",
    "        if followerId not in self.users:\n",
    "            self.users[followerId] = [followerId]\n",
    "        if followeeId not in self.users:\n",
    "            self.users[followeeId] = [followeeId]\n",
    "        if followeeId not in self.users[followerId]:\n",
    "            self.users[followerId].append(followeeId)\n",
    "        \n",
    "\n",
    "    def unfollow(self, followerId: int, followeeId: int) -> None:\n",
    "        if followerId not in self.users:\n",
    "            self.users[followerId] = [followerId]\n",
    "        if followeeId not in self.users:\n",
    "            self.users[followeeId] = [followeeId]\n",
    "        if followeeId != followerId and followeeId in self.users[followerId]:\n",
    "            self.users[followerId].remove(followeeId)"
   ]
  },
  {
   "cell_type": "code",
   "execution_count": 5,
   "metadata": {},
   "outputs": [],
   "source": [
    "twitter = Twitter();\n",
    "twitter.postTweet(1, 5);\n",
    "# 用户1的获取推文应当返回一个列表，其中包含一个id为5的推文.\n",
    "twitter.getNewsFeed(1);\n",
    "# 用户1关注了用户2.\n",
    "twitter.follow(1, 2);\n",
    "# 用户2发送了一个新推文 (推文id = 6).\n",
    "twitter.postTweet(2, 6);\n",
    "# 用户1的获取推文应当返回一个列表，其中包含两个推文，id分别为 -> [6, 5].\n",
    "# 推文id6应当在推文id5之前，因为它是在5之后发送的.\n",
    "twitter.getNewsFeed(1);\n",
    "# 用户1取消关注了用户2.\n",
    "twitter.unfollow(1, 2);\n",
    "# 用户1的获取推文应当返回一个列表，其中包含一个id为5的推文.\n",
    "# 因为用户1已经不再关注用户2.\n",
    "twitter.getNewsFeed(1);\n"
   ]
  },
  {
   "cell_type": "code",
   "execution_count": null,
   "metadata": {},
   "outputs": [],
   "source": []
  }
 ],
 "metadata": {
  "kernelspec": {
   "display_name": "Python 3",
   "language": "python",
   "name": "python3"
  },
  "language_info": {
   "codemirror_mode": {
    "name": "ipython",
    "version": 3
   },
   "file_extension": ".py",
   "mimetype": "text/x-python",
   "name": "python",
   "nbconvert_exporter": "python",
   "pygments_lexer": "ipython3",
   "version": "3.7.4"
  }
 },
 "nbformat": 4,
 "nbformat_minor": 4
}
