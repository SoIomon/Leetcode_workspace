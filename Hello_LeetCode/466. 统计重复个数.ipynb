{
 "cells": [
  {
   "cell_type": "markdown",
   "metadata": {},
   "source": [
    "由 n 个连接的字符串 s 组成字符串 S，记作 S = [s,n]。例如，[\"abc\",3]=“abcabcabc”。\n",
    "\n",
    "如果我们可以从 s2 中删除某些字符使其变为 s1，则称字符串 s1 可以从字符串 s2 获得。例如，根据定义，\"abc\" 可以从 “abdbec” 获得，但不能从 “acbbe” 获得。\n",
    "\n",
    "现在给你两个非空字符串 s1 和 s2（每个最多 100 个字符长）和两个整数 0 ≤ n1 ≤ 106 和 1 ≤ n2 ≤ 106。现在考虑字符串 S1 和 S2，其中 S1=[s1,n1] 、S2=[s2,n2] 。\n",
    "\n",
    "请你找出一个可以满足使[S2,M] 从 S1 获得的最大整数 M 。\n",
    "\n",
    " \n",
    "\n",
    "示例：\n",
    "\n",
    "输入：\n",
    "s1 =\"acb\",n1 = 4\n",
    "s2 =\"ab\",n2 = 2\n",
    "\n",
    "返回：\n",
    "2\n",
    "\n",
    "来源：力扣（LeetCode）\n",
    "链接：https://leetcode-cn.com/problems/count-the-repetitions\n",
    "著作权归领扣网络所有。商业转载请联系官方授权，非商业转载请注明出处。"
   ]
  },
  {
   "cell_type": "code",
   "execution_count": 28,
   "metadata": {},
   "outputs": [],
   "source": [
    "class Solution:\n",
    "    # 暴力\n",
    "    def getMaxRepetitions(self, s1: str, n1: int, s2: str, n2: int) -> int:\n",
    "        index2 = 0\n",
    "        len1 = len(s1)\n",
    "        len2 = len(s2)\n",
    "        for i in range(len(s1) * n1):\n",
    "            if s1[i % len1] == s2[index2 % len2]:\n",
    "                index2 += 1\n",
    "        return index2 // (n2 * len2)"
   ]
  },
  {
   "cell_type": "code",
   "execution_count": 148,
   "metadata": {},
   "outputs": [],
   "source": [
    "class Solution:\n",
    "    def getMaxRepetitions(self, s1: str, n1: int, s2: str, n2: int) -> int:\n",
    "        if n1 == 0:\n",
    "            return 0\n",
    "        s1cnt, index, s2cnt = 0, 0, 0\n",
    "        recall = dict()\n",
    "        \n",
    "        while True:\n",
    "            s1cnt += 1\n",
    "            for ch in s1:\n",
    "                if ch == s2[index]:\n",
    "                    index += 1\n",
    "                    if index == len(s2):\n",
    "                        s2cnt, index = s2cnt + 1, 0\n",
    "            if s1cnt == n1:\n",
    "                return s2cnt // n2\n",
    "            if index in recall:\n",
    "                s1cnt_prime, s2cnt_prime = recall[index]\n",
    "                pre_loop = (s1cnt_prime, s2cnt_prime)\n",
    "                in_loop = (s1cnt - s1cnt_prime, s2cnt - s2cnt_prime)\n",
    "                break\n",
    "            else:\n",
    "                recall[index] = (s1cnt, s2cnt)\n",
    "\n",
    "        ans = pre_loop[1] + (n1 - pre_loop[0]) // in_loop[0] * in_loop[1]\n",
    "        rest = (n1 - pre_loop[0]) % in_loop[0]\n",
    "        for i in range(rest):\n",
    "            for ch in s1:\n",
    "                if ch == s2[index]:\n",
    "                    index += 1\n",
    "                    if index == len(s2):\n",
    "                        ans, index = ans + 1, 0\n",
    "        return ans // n2"
   ]
  },
  {
   "cell_type": "code",
   "execution_count": 173,
   "metadata": {},
   "outputs": [],
   "source": [
    "class Solution:\n",
    "    # 暴力优化\n",
    "    def getMaxRepetitions(self, s1: str, n1: int, s2: str, n2: int) -> int:\n",
    "        if n1 == 0:\n",
    "            return 0\n",
    "        \n",
    "        s1 = [i for i in s1 if i in s2]\n",
    "        s1 = ''.join(s1)\n",
    "        \n",
    "        for i in s2:\n",
    "            if i not in s1:\n",
    "                return 0\n",
    "        \n",
    "        index1 = 0\n",
    "        index2 = 0\n",
    "        len1 = len(s1)\n",
    "        len2 = len(s2)\n",
    "        \n",
    "        find_loop = False\n",
    "        loop = {}\n",
    "        \n",
    "        while not find_loop:\n",
    "            if s1[index1 % len1] == s2[index2 % len2]:\n",
    "                if (index1 % len1, index2 % len2) not in loop:\n",
    "                    loop[(index1%len1, index2%len2)] = (index1, index2)\n",
    "                else:\n",
    "                    find_loop = True\n",
    "                    loop_length = (index1-loop[(index1%len1, index2%len2)][0], index2-loop[(index1%len1, index2%len2)][1])\n",
    "                    start_point = loop[(index1%len1, index2%len2)]\n",
    "                index2 += 1\n",
    "            index1 += 1\n",
    "        \n",
    "        loop_num = (len1-start_point[0]) * n1 // loop_length[0]\n",
    "        index1 = loop_num * loop_length[0] + start_point[0]\n",
    "        index2 = loop_num * loop_length[1] + start_point[1]\n",
    "        \n",
    "        for i in range(index1,len(s1) * n1):\n",
    "            if s1[i % len1] == s2[index2 % len2]:\n",
    "                index2 += 1\n",
    "        \n",
    "        return index2 // (n2 * len2)"
   ]
  },
  {
   "cell_type": "code",
   "execution_count": 166,
   "metadata": {},
   "outputs": [
    {
     "data": {
      "text/plain": [
       "2"
      ]
     },
     "execution_count": 166,
     "metadata": {},
     "output_type": "execute_result"
    }
   ],
   "source": [
    "Solution().getMaxRepetitions('acb',4,'ab',2)"
   ]
  },
  {
   "cell_type": "code",
   "execution_count": 167,
   "metadata": {},
   "outputs": [
    {
     "data": {
      "text/plain": [
       "4"
      ]
     },
     "execution_count": 167,
     "metadata": {},
     "output_type": "execute_result"
    }
   ],
   "source": [
    "Solution().getMaxRepetitions('aaa',3,'aa',1)"
   ]
  },
  {
   "cell_type": "code",
   "execution_count": 168,
   "metadata": {},
   "outputs": [
    {
     "data": {
      "text/plain": [
       "7"
      ]
     },
     "execution_count": 168,
     "metadata": {},
     "output_type": "execute_result"
    }
   ],
   "source": [
    "Solution().getMaxRepetitions('baba',11,'baab',1)"
   ]
  },
  {
   "cell_type": "code",
   "execution_count": 169,
   "metadata": {},
   "outputs": [],
   "source": [
    "a = \"phqghumeaylnlfdxfircvscxggbwkfnqduxwfnfozvsrtkjprepggxrpnrvystmwcysyycqpevikeffmznimkkasvwsrenzkycxf\"\n",
    "an = 1000000\n",
    "b = \"xtlsgypsfadpooefxzbcoejuvpvaboygpoeylfpbnpljvrvipyamyehwqnqrqpmxujjloovaowuxwhmsncbxcoksfzkvatxdknly\"\n",
    "bn = 100"
   ]
  },
  {
   "cell_type": "code",
   "execution_count": 170,
   "metadata": {},
   "outputs": [
    {
     "data": {
      "text/plain": [
       "303"
      ]
     },
     "execution_count": 170,
     "metadata": {},
     "output_type": "execute_result"
    }
   ],
   "source": [
    "Solution().getMaxRepetitions(a,an,b,bn)"
   ]
  },
  {
   "cell_type": "code",
   "execution_count": 171,
   "metadata": {},
   "outputs": [],
   "source": [
    "a = \"bacaba\"\n",
    "an = 3\n",
    "b = \"abacab\"\n",
    "bn = 1"
   ]
  },
  {
   "cell_type": "code",
   "execution_count": 172,
   "metadata": {},
   "outputs": [
    {
     "data": {
      "text/plain": [
       "2"
      ]
     },
     "execution_count": 172,
     "metadata": {},
     "output_type": "execute_result"
    }
   ],
   "source": [
    "Solution().getMaxRepetitions(a,an,b,bn)"
   ]
  },
  {
   "cell_type": "code",
   "execution_count": 176,
   "metadata": {},
   "outputs": [],
   "source": [
    "a = \"phqghumeaylnlfdxfircvscxggbwkfnqduxwfnfozvsrtkjprepggxrpnrvystmwcysyycqpevikef\"\n",
    "an = 1000000\n",
    "b = \"fmznimkkasvwsrenzkycxfxtlsgypsfad\"\n",
    "bn = 333"
   ]
  },
  {
   "cell_type": "code",
   "execution_count": 177,
   "metadata": {},
   "outputs": [
    {
     "data": {
      "text/plain": [
       "333"
      ]
     },
     "execution_count": 177,
     "metadata": {},
     "output_type": "execute_result"
    }
   ],
   "source": [
    "Solution().getMaxRepetitions(a,an,b,bn)"
   ]
  },
  {
   "cell_type": "code",
   "execution_count": null,
   "metadata": {},
   "outputs": [],
   "source": []
  }
 ],
 "metadata": {
  "kernelspec": {
   "display_name": "Python 3",
   "language": "python",
   "name": "python3"
  },
  "language_info": {
   "codemirror_mode": {
    "name": "ipython",
    "version": 3
   },
   "file_extension": ".py",
   "mimetype": "text/x-python",
   "name": "python",
   "nbconvert_exporter": "python",
   "pygments_lexer": "ipython3",
   "version": "3.7.4"
  }
 },
 "nbformat": 4,
 "nbformat_minor": 4
}
