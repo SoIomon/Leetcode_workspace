{
 "cells": [
  {
   "cell_type": "markdown",
   "metadata": {},
   "source": [
    "给定一个由 0 和 1 组成的矩阵，找出每个元素到最近的 0 的距离。\n",
    "\n",
    "两个相邻元素间的距离为 1 。\n",
    "\n",
    "示例 1:\n",
    "输入:\n",
    "\n",
    "0 0 0\n",
    "\n",
    "0 1 0\n",
    "\n",
    "0 0 0\n",
    "\n",
    "输出:\n",
    "\n",
    "0 0 0\n",
    "\n",
    "0 1 0\n",
    "\n",
    "0 0 0\n",
    "\n",
    "示例 2:\n",
    "输入:\n",
    "\n",
    "0 0 0\n",
    "\n",
    "0 1 0\n",
    "\n",
    "1 1 1\n",
    "\n",
    "输出:\n",
    "\n",
    "0 0 0\n",
    "\n",
    "0 1 0\n",
    "\n",
    "1 2 1\n",
    "\n",
    "注意:\n",
    "\n",
    "给定矩阵的元素个数不超过 10000。\n",
    "给定矩阵中至少有一个元素是 0。\n",
    "矩阵中的元素只在四个方向上相邻: 上、下、左、右。\n",
    "\n",
    "来源：力扣（LeetCode）\n",
    "链接：https://leetcode-cn.com/problems/01-matrix\n",
    "著作权归领扣网络所有。商业转载请联系官方授权，非商业转载请注明出处。"
   ]
  },
  {
   "cell_type": "code",
   "execution_count": 16,
   "metadata": {},
   "outputs": [],
   "source": [
    "from typing import List\n",
    "class Solution:\n",
    "    def updateMatrix(self, matrix: List[List[int]]) -> List[List[int]]:\n",
    "        m = len(matrix)\n",
    "        n = len(matrix[0])\n",
    "        queue = []\n",
    "        visited = set()\n",
    "        direction = [(1, 0), (-1, 0), (0 ,1), (0, -1)]\n",
    "        ans = [[0 for i in range(n)] for j in range(m)]\n",
    "        \n",
    "        # 0 加入队列\n",
    "        for i, row in enumerate(matrix):\n",
    "            for j, v in enumerate(row):\n",
    "                if v == 0:\n",
    "                    queue.append((i, j))\n",
    "                    visited.add((i, j))\n",
    "        \n",
    "        # BFS\n",
    "        distance = 1\n",
    "        while queue != []:\n",
    "            tmp_queue = []\n",
    "            while queue != []:\n",
    "                x, y = queue.pop(0)\n",
    "                # 四个方向\n",
    "                for dx, dy in direction:\n",
    "                    if 0 <= x+dx < m and 0 <= y+dy < n and (x+dx, y+dy) not in visited:\n",
    "                        if matrix[x+dx][y+dy] == 1:\n",
    "                            ans[x+dx][y+dy] = distance\n",
    "                            tmp_queue.append((x+dx, y+dy))\n",
    "                            visited.add((x+dx, y+dy))\n",
    "            queue = tmp_queue\n",
    "            distance += 1\n",
    "        \n",
    "        return ans"
   ]
  },
  {
   "cell_type": "code",
   "execution_count": 17,
   "metadata": {},
   "outputs": [
    {
     "data": {
      "text/plain": [
       "[[0, 0, 0], [0, 1, 0], [1, 2, 1]]"
      ]
     },
     "execution_count": 17,
     "metadata": {},
     "output_type": "execute_result"
    }
   ],
   "source": [
    "a = [[0,0,0],[0,1,0],[1,1,1]]\n",
    "b = Solution().updateMatrix(a)\n",
    "b"
   ]
  },
  {
   "cell_type": "code",
   "execution_count": null,
   "metadata": {},
   "outputs": [],
   "source": []
  }
 ],
 "metadata": {
  "kernelspec": {
   "display_name": "Python 3",
   "language": "python",
   "name": "python3"
  },
  "language_info": {
   "codemirror_mode": {
    "name": "ipython",
    "version": 3
   },
   "file_extension": ".py",
   "mimetype": "text/x-python",
   "name": "python",
   "nbconvert_exporter": "python",
   "pygments_lexer": "ipython3",
   "version": "3.7.4"
  }
 },
 "nbformat": 4,
 "nbformat_minor": 4
}
