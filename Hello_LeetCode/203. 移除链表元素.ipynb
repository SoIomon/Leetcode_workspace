{
 "cells": [
  {
   "cell_type": "markdown",
   "metadata": {},
   "source": [
    "删除链表中等于给定值 val 的所有节点。\n",
    "\n",
    "示例:\n",
    "\n",
    "输入: 1->2->6->3->4->5->6, val = 6\n",
    "输出: 1->2->3->4->5"
   ]
  },
  {
   "cell_type": "code",
   "execution_count": 1,
   "metadata": {},
   "outputs": [],
   "source": [
    "# Definition for singly-linked list.\n",
    "class ListNode:\n",
    "    def __init__(self, x):\n",
    "        self.val = x\n",
    "        self.next = None\n",
    "\n",
    "class Solution:\n",
    "    def removeElements(self, head: ListNode, val: int) -> ListNode:\n",
    "        dummy_head = ListNode(0)\n",
    "        p = dummy_head\n",
    "        q = head\n",
    "        while q != None:\n",
    "            if q.val != val:\n",
    "                p.next = ListNode(q.val)\n",
    "                p = p.next\n",
    "            q = q.next\n",
    "        return dummy_head.next"
   ]
  },
  {
   "cell_type": "code",
   "execution_count": null,
   "metadata": {},
   "outputs": [],
   "source": []
  }
 ],
 "metadata": {
  "kernelspec": {
   "display_name": "Python 3",
   "language": "python",
   "name": "python3"
  },
  "language_info": {
   "codemirror_mode": {
    "name": "ipython",
    "version": 3
   },
   "file_extension": ".py",
   "mimetype": "text/x-python",
   "name": "python",
   "nbconvert_exporter": "python",
   "pygments_lexer": "ipython3",
   "version": "3.7.4"
  }
 },
 "nbformat": 4,
 "nbformat_minor": 4
}
