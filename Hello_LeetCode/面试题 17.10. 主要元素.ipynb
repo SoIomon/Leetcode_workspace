{
 "cells": [
  {
   "cell_type": "markdown",
   "metadata": {},
   "source": [
    "如果数组中多一半的数都是同一个，则称之为主要元素。给定一个整数数组，找到它的主要元素。若没有，返回-1。\n",
    "\n",
    "示例 1：\n",
    "\n",
    "输入：[1,2,5,9,5,9,5,5,5]\n",
    "输出：5\n",
    " \n",
    "\n",
    "示例 2：\n",
    "\n",
    "输入：[3,2]\n",
    "输出：-1\n",
    " \n",
    "\n",
    "示例 3：\n",
    "\n",
    "输入：[2,2,1,1,1,2,2]\n",
    "输出：2\n",
    " \n",
    "\n",
    "说明：\n",
    "你有办法在时间复杂度为 O(N)，空间复杂度为 O(1) 内完成吗？\n",
    "\n",
    "来源：力扣（LeetCode）\n",
    "链接：https://leetcode-cn.com/problems/find-majority-element-lcci\n",
    "著作权归领扣网络所有。商业转载请联系官方授权，非商业转载请注明出处。"
   ]
  },
  {
   "cell_type": "code",
   "execution_count": 7,
   "metadata": {},
   "outputs": [],
   "source": [
    "class Solution:\n",
    "    def majorityElement(self, nums) -> int:\n",
    "        count = 1\n",
    "        major = nums[0]\n",
    "        for num in nums[1:]:\n",
    "            if count == 0:\n",
    "                major = num\n",
    "                count = 1\n",
    "            else:\n",
    "                if num == major:\n",
    "                    count += 1\n",
    "                else:\n",
    "                    count -= 1\n",
    "        return major if nums.count(major) > len(nums)//2 else -1"
   ]
  },
  {
   "cell_type": "code",
   "execution_count": 8,
   "metadata": {},
   "outputs": [
    {
     "data": {
      "text/plain": [
       "-1"
      ]
     },
     "execution_count": 8,
     "metadata": {},
     "output_type": "execute_result"
    }
   ],
   "source": [
    "Solution().majorityElement([1,2,3,1,2,3])"
   ]
  },
  {
   "cell_type": "code",
   "execution_count": null,
   "metadata": {},
   "outputs": [],
   "source": []
  }
 ],
 "metadata": {
  "kernelspec": {
   "display_name": "Python 3",
   "language": "python",
   "name": "python3"
  },
  "language_info": {
   "codemirror_mode": {
    "name": "ipython",
    "version": 3
   },
   "file_extension": ".py",
   "mimetype": "text/x-python",
   "name": "python",
   "nbconvert_exporter": "python",
   "pygments_lexer": "ipython3",
   "version": "3.7.4"
  }
 },
 "nbformat": 4,
 "nbformat_minor": 4
}
