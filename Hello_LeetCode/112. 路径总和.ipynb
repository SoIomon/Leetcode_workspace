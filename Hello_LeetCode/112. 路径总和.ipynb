{
 "cells": [
  {
   "cell_type": "code",
   "execution_count": 1,
   "metadata": {},
   "outputs": [],
   "source": [
    "# Definition for a binary tree node.\n",
    "class TreeNode:\n",
    "    def __init__(self, x):\n",
    "        self.val = x\n",
    "        self.left = None\n",
    "        self.right = None"
   ]
  },
  {
   "cell_type": "code",
   "execution_count": 2,
   "metadata": {},
   "outputs": [],
   "source": [
    "class Solution:\n",
    "    def hasPathSum(self, root: TreeNode, sum: int) -> bool:\n",
    "        if root is None:\n",
    "            return False\n",
    "        elif root.left is None and root.right is None:\n",
    "            return sum - root.val == 0\n",
    "        elif root.right is None:\n",
    "            return self.hasPathSum(root.left, sum - root.val)\n",
    "        elif root.left is None:\n",
    "            return self.hasPathSum(root.right, sum - root.val)\n",
    "        else:\n",
    "            return self.hasPathSum(root.right, sum - root.val) or self.hasPathSum(root.left, sum - root.val)"
   ]
  },
  {
   "cell_type": "code",
   "execution_count": 3,
   "metadata": {},
   "outputs": [],
   "source": [
    "class Solution:\n",
    "    # DFS\n",
    "    def hasPathSum(self, root: TreeNode, sum: int) -> bool:\n",
    "        if root is None:\n",
    "            return False\n",
    "        stack = [(root, sum)]\n",
    "        while stack != []:\n",
    "            tmp_node, rest = stack.pop()\n",
    "            if tmp_node.left is not None:\n",
    "                stack.append((tmp_node.left, rest - tmp_node.val))\n",
    "            if tmp_node.right is not None:\n",
    "                stack.append((tmp_node.right, rest - tmp_node.val))\n",
    "            if tmp_node.right is None and tmp_node.left is None:\n",
    "                if tmp_node.val - rest == 0:\n",
    "                    return True\n",
    "        return False "
   ]
  },
  {
   "cell_type": "code",
   "execution_count": 4,
   "metadata": {},
   "outputs": [
    {
     "data": {
      "text/plain": [
       "[1, 2]"
      ]
     },
     "execution_count": 4,
     "metadata": {},
     "output_type": "execute_result"
    }
   ],
   "source": [
    "a = [1]\n",
    "b = [2]\n",
    "a + b"
   ]
  },
  {
   "cell_type": "code",
   "execution_count": null,
   "metadata": {},
   "outputs": [],
   "source": []
  }
 ],
 "metadata": {
  "kernelspec": {
   "display_name": "Python 3",
   "language": "python",
   "name": "python3"
  },
  "language_info": {
   "codemirror_mode": {
    "name": "ipython",
    "version": 3
   },
   "file_extension": ".py",
   "mimetype": "text/x-python",
   "name": "python",
   "nbconvert_exporter": "python",
   "pygments_lexer": "ipython3",
   "version": "3.7.4"
  }
 },
 "nbformat": 4,
 "nbformat_minor": 4
}
