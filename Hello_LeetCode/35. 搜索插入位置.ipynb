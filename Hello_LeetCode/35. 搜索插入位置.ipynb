{
 "cells": [
  {
   "cell_type": "markdown",
   "metadata": {},
   "source": [
    "给定一个排序数组和一个目标值，在数组中找到目标值，并返回其索引。如果目标值不存在于数组中，返回它将会被按顺序插入的位置。\n",
    "\n",
    "你可以假设数组中无重复元素。\n",
    "\n",
    "示例 1:\n",
    "\n",
    "输入: [1,3,5,6], 5\n",
    "输出: 2\n",
    "示例 2:\n",
    "\n",
    "输入: [1,3,5,6], 2\n",
    "输出: 1\n",
    "示例 3:\n",
    "\n",
    "输入: [1,3,5,6], 7\n",
    "输出: 4\n",
    "示例 4:\n",
    "\n",
    "输入: [1,3,5,6], 0\n",
    "输出: 0\n",
    "\n",
    "来源：力扣（LeetCode）\n",
    "链接：https://leetcode-cn.com/problems/search-insert-position\n",
    "著作权归领扣网络所有。商业转载请联系官方授权，非商业转载请注明出处。"
   ]
  },
  {
   "cell_type": "code",
   "execution_count": 10,
   "metadata": {},
   "outputs": [],
   "source": [
    "def searchInsert(nums, target: int) -> int:\n",
    "    for i, v in enumerate(nums):\n",
    "        if v >= target:\n",
    "            return i\n",
    "    return len(nums)"
   ]
  },
  {
   "cell_type": "code",
   "execution_count": 12,
   "metadata": {},
   "outputs": [
    {
     "data": {
      "text/plain": [
       "4"
      ]
     },
     "execution_count": 12,
     "metadata": {},
     "output_type": "execute_result"
    }
   ],
   "source": [
    "searchInsert([1,3,5,6], 7)"
   ]
  },
  {
   "cell_type": "code",
   "execution_count": null,
   "metadata": {},
   "outputs": [],
   "source": []
  }
 ],
 "metadata": {
  "kernelspec": {
   "display_name": "Python 3",
   "language": "python",
   "name": "python3"
  },
  "language_info": {
   "codemirror_mode": {
    "name": "ipython",
    "version": 3
   },
   "file_extension": ".py",
   "mimetype": "text/x-python",
   "name": "python",
   "nbconvert_exporter": "python",
   "pygments_lexer": "ipython3",
   "version": "3.7.4"
  }
 },
 "nbformat": 4,
 "nbformat_minor": 4
}
