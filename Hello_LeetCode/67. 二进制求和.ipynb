{
 "cells": [
  {
   "cell_type": "markdown",
   "metadata": {},
   "source": [
    "给定两个二进制字符串，返回他们的和（用二进制表示）。\n",
    "\n",
    "输入为非空字符串且只包含数字 1 和 0。\n",
    "\n",
    "示例 1:\n",
    "\n",
    "输入: a = \"11\", b = \"1\"\n",
    "输出: \"100\"\n",
    "示例 2:\n",
    "\n",
    "输入: a = \"1010\", b = \"1011\"\n",
    "输出: \"10101\"\n",
    "\n",
    "来源：力扣（LeetCode）\n",
    "链接：https://leetcode-cn.com/problems/add-binary\n",
    "著作权归领扣网络所有。商业转载请联系官方授权，非商业转载请注明出处。"
   ]
  },
  {
   "cell_type": "code",
   "execution_count": 36,
   "metadata": {},
   "outputs": [],
   "source": [
    "def addBinary(a: str, b: str) -> str:\n",
    "    x = [int(i) for i in a[::-1]]\n",
    "    y = [int(i) for i in b[::-1]]\n",
    "    carry = 0\n",
    "    ans = []\n",
    "    p = 0\n",
    "    while p <= max(len(x),len(y)):\n",
    "        tmp = 0\n",
    "        if p < min(len(x), len(y)):\n",
    "            tmp = x[p] + y[p] + carry\n",
    "        else:\n",
    "            if p >= len(x) and p < len(y):\n",
    "                tmp = y[p] + carry\n",
    "            elif p < len(x) and p >= len(y):\n",
    "                tmp = x[p] + carry\n",
    "            else:\n",
    "                tmp = carry\n",
    "        ans.append(tmp%2)\n",
    "        carry = tmp // 2\n",
    "        p += 1\n",
    "    if ans[-1] == 0:\n",
    "        ans = ans[:-1]\n",
    "    ans = [str(i) for i in ans]\n",
    "    return ''.join(ans[::-1])"
   ]
  },
  {
   "cell_type": "code",
   "execution_count": 37,
   "metadata": {},
   "outputs": [],
   "source": [
    "def addBinary(a: str, b: str) -> str:\n",
    "    x = int(a, 2)\n",
    "    y = int(b, 2)\n",
    "    return x+y"
   ]
  },
  {
   "cell_type": "code",
   "execution_count": 38,
   "metadata": {},
   "outputs": [
    {
     "data": {
      "text/plain": [
       "3"
      ]
     },
     "execution_count": 38,
     "metadata": {},
     "output_type": "execute_result"
    }
   ],
   "source": [
    "a = \"1\"\n",
    "b = \"10\"\n",
    "addBinary(a,b)"
   ]
  },
  {
   "cell_type": "code",
   "execution_count": null,
   "metadata": {},
   "outputs": [],
   "source": []
  }
 ],
 "metadata": {
  "kernelspec": {
   "display_name": "Python 3",
   "language": "python",
   "name": "python3"
  },
  "language_info": {
   "codemirror_mode": {
    "name": "ipython",
    "version": 3
   },
   "file_extension": ".py",
   "mimetype": "text/x-python",
   "name": "python",
   "nbconvert_exporter": "python",
   "pygments_lexer": "ipython3",
   "version": "3.7.4"
  }
 },
 "nbformat": 4,
 "nbformat_minor": 4
}
