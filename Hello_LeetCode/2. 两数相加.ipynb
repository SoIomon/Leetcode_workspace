{
 "cells": [
  {
   "cell_type": "markdown",
   "metadata": {},
   "source": [
    "给出两个 非空 的链表用来表示两个非负的整数。其中，它们各自的位数是按照 逆序 的方式存储的，并且它们的每个节点只能存储 一位 数字。\n",
    "\n",
    "如果，我们将这两个数相加起来，则会返回一个新的链表来表示它们的和。\n",
    "\n",
    "您可以假设除了数字 0 之外，这两个数都不会以 0 开头。\n",
    "\n",
    "示例：\n",
    "\n",
    "输入：(2 -> 4 -> 3) + (5 -> 6 -> 4)\n",
    "输出：7 -> 0 -> 8\n",
    "原因：342 + 465 = 807\n",
    "\n",
    "来源：力扣（LeetCode）\n",
    "链接：https://leetcode-cn.com/problems/add-two-numbers\n",
    "著作权归领扣网络所有。商业转载请联系官方授权，非商业转载请注明出处。"
   ]
  },
  {
   "cell_type": "code",
   "execution_count": 58,
   "metadata": {},
   "outputs": [],
   "source": [
    "# Definition for singly-linked list.\n",
    "class ListNode:\n",
    "    def __init__(self, x):\n",
    "        self.val = x\n",
    "        self.next = None\n",
    "        \n",
    "    def showList(self):\n",
    "        p = self\n",
    "        while(p is not None):\n",
    "            print(p.val)\n",
    "            p = p.next\n",
    "\n",
    "def addTwoNumbers(l1: ListNode, l2: ListNode) -> ListNode:\n",
    "    p = l1\n",
    "    q = l2\n",
    "    c = 0\n",
    "    result = ListNode(0)\n",
    "    r = result\n",
    "    zero = ListNode(0)\n",
    "    while p is not None or q is not None or c != 0:\n",
    "        if p is None:\n",
    "            p = zero\n",
    "        if q is None:\n",
    "            q = zero\n",
    "        tmp = p.val + q.val + c\n",
    "        r.next = ListNode(tmp % 10)\n",
    "        c = tmp //10\n",
    "        q = q.next\n",
    "        p = p.next\n",
    "        r = r.next\n",
    "    return result.next"
   ]
  },
  {
   "cell_type": "code",
   "execution_count": 61,
   "metadata": {},
   "outputs": [
    {
     "name": "stdout",
     "output_type": "stream",
     "text": [
      "2\n",
      "4\n",
      "5\n",
      "6\n",
      "4\n"
     ]
    }
   ],
   "source": [
    "a = [2, 4]\n",
    "b = [5, 6, 4]\n",
    "\n",
    "aa = ListNode(a[0])\n",
    "p = aa\n",
    "for i in a[1:]:\n",
    "    p.next = ListNode(i)\n",
    "    p = p.next\n",
    "aa.showList()\n",
    "\n",
    "bb = ListNode(b[0])\n",
    "p = bb\n",
    "for i in b[1:]:\n",
    "    p.next = ListNode(i)\n",
    "    p = p.next\n",
    "bb.showList()"
   ]
  },
  {
   "cell_type": "code",
   "execution_count": 62,
   "metadata": {},
   "outputs": [
    {
     "name": "stdout",
     "output_type": "stream",
     "text": [
      "7\n",
      "0\n",
      "5\n"
     ]
    }
   ],
   "source": [
    "c = addTwoNumbers(aa,bb)\n",
    "c.showList()"
   ]
  },
  {
   "cell_type": "code",
   "execution_count": null,
   "metadata": {},
   "outputs": [],
   "source": []
  }
 ],
 "metadata": {
  "kernelspec": {
   "display_name": "Python 3",
   "language": "python",
   "name": "python3"
  },
  "language_info": {
   "codemirror_mode": {
    "name": "ipython",
    "version": 3
   },
   "file_extension": ".py",
   "mimetype": "text/x-python",
   "name": "python",
   "nbconvert_exporter": "python",
   "pygments_lexer": "ipython3",
   "version": "3.7.4"
  }
 },
 "nbformat": 4,
 "nbformat_minor": 4
}
