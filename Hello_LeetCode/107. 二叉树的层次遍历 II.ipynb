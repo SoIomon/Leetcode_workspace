{
 "cells": [
  {
   "cell_type": "code",
   "execution_count": 1,
   "metadata": {},
   "outputs": [
    {
     "data": {
      "text/plain": [
       "1"
      ]
     },
     "execution_count": 1,
     "metadata": {},
     "output_type": "execute_result"
    }
   ],
   "source": [
    "a = [1,23]\n",
    "a.pop(0)"
   ]
  },
  {
   "cell_type": "code",
   "execution_count": 5,
   "metadata": {},
   "outputs": [],
   "source": [
    "# Definition for a binary tree node.\n",
    "class TreeNode:\n",
    "    def __init__(self, x):\n",
    "        self.val = x\n",
    "        self.left = None\n",
    "        self.right = None\n",
    "\n",
    "class Solution:\n",
    "    def levelOrderBottom(self, root: TreeNode):\n",
    "        if root is None:\n",
    "            return []\n",
    "        queue = [(root, 1)]\n",
    "        ans = []\n",
    "        depth = 1\n",
    "        tmp = []\n",
    "        while(queue != []):\n",
    "            p, pdepth = queue.pop(0)\n",
    "            if pdepth != depth:\n",
    "                ans.append(tmp)\n",
    "                tmp = []\n",
    "                depth += 1\n",
    "            tmp.append(p.val)\n",
    "            if p.left is not None:\n",
    "                queue.append((p.left, pdepth + 1))\n",
    "            if p.right is not None:\n",
    "                queue.append((p.right, pdepth + 1))\n",
    "        ans.append(tmp)\n",
    "        return ans[::-1]"
   ]
  },
  {
   "cell_type": "code",
   "execution_count": null,
   "metadata": {},
   "outputs": [],
   "source": []
  }
 ],
 "metadata": {
  "kernelspec": {
   "display_name": "Python 3",
   "language": "python",
   "name": "python3"
  },
  "language_info": {
   "codemirror_mode": {
    "name": "ipython",
    "version": 3
   },
   "file_extension": ".py",
   "mimetype": "text/x-python",
   "name": "python",
   "nbconvert_exporter": "python",
   "pygments_lexer": "ipython3",
   "version": "3.7.4"
  }
 },
 "nbformat": 4,
 "nbformat_minor": 4
}
