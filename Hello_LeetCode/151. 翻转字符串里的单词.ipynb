{
 "cells": [
  {
   "cell_type": "markdown",
   "metadata": {},
   "source": [
    "给定一个字符串，逐个翻转字符串中的每个单词。\n",
    "\n",
    " \n",
    "\n",
    "示例 1：\n",
    "\n",
    "输入: \"the sky is blue\"\n",
    "输出: \"blue is sky the\"\n",
    "示例 2：\n",
    "\n",
    "输入: \"  hello world!  \"\n",
    "输出: \"world! hello\"\n",
    "解释: 输入字符串可以在前面或者后面包含多余的空格，但是反转后的字符不能包括。\n",
    "示例 3：\n",
    "\n",
    "输入: \"a good   example\"\n",
    "输出: \"example good a\"\n",
    "解释: 如果两个单词间有多余的空格，将反转后单词间的空格减少到只含一个。\n",
    " \n",
    "\n",
    "说明：\n",
    "\n",
    "无空格字符构成一个单词。\n",
    "输入字符串可以在前面或者后面包含多余的空格，但是反转后的字符不能包括。\n",
    "如果两个单词间有多余的空格，将反转后单词间的空格减少到只含一个。\n",
    " \n",
    "\n",
    "来源：力扣（LeetCode）\n",
    "链接：https://leetcode-cn.com/problems/reverse-words-in-a-string\n",
    "著作权归领扣网络所有。商业转载请联系官方授权，非商业转载请注明出处。"
   ]
  },
  {
   "cell_type": "code",
   "execution_count": 14,
   "metadata": {},
   "outputs": [],
   "source": [
    "class Solution:\n",
    "    def reverseWords(self, s: str) -> str:\n",
    "        ans = []\n",
    "        tmp = []\n",
    "        for c in s:\n",
    "            if c == ' ' and tmp != []:\n",
    "                ans.append(''.join(tmp))\n",
    "                tmp = []\n",
    "            elif c == ' ' and tmp == []:\n",
    "                pass\n",
    "            else:\n",
    "                tmp.append(c)\n",
    "        if tmp != []:\n",
    "            ans.append(''.join(tmp))\n",
    "        return ' '.join(ans[::-1])"
   ]
  },
  {
   "cell_type": "code",
   "execution_count": 15,
   "metadata": {},
   "outputs": [
    {
     "data": {
      "text/plain": [
       "'blue is sky the'"
      ]
     },
     "execution_count": 15,
     "metadata": {},
     "output_type": "execute_result"
    }
   ],
   "source": [
    "Solution().reverseWords(\" the sky is  blue \")"
   ]
  },
  {
   "cell_type": "code",
   "execution_count": null,
   "metadata": {},
   "outputs": [],
   "source": []
  }
 ],
 "metadata": {
  "kernelspec": {
   "display_name": "Python 3",
   "language": "python",
   "name": "python3"
  },
  "language_info": {
   "codemirror_mode": {
    "name": "ipython",
    "version": 3
   },
   "file_extension": ".py",
   "mimetype": "text/x-python",
   "name": "python",
   "nbconvert_exporter": "python",
   "pygments_lexer": "ipython3",
   "version": "3.7.4"
  }
 },
 "nbformat": 4,
 "nbformat_minor": 4
}
