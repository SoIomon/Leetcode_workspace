{
 "cells": [
  {
   "cell_type": "markdown",
   "metadata": {},
   "source": [
    "给定一个非负整数 numRows，生成杨辉三角的前 numRows 行。\n",
    "\n",
    "\n",
    "\n",
    "在杨辉三角中，每个数是它左上方和右上方的数的和。\n",
    "\n",
    "示例:\n",
    "\n",
    "输入: 5\n",
    "输出:\n",
    "[\n",
    "     [1],\n",
    "    [1,1],\n",
    "   [1,2,1],\n",
    "  [1,3,3,1],\n",
    " [1,4,6,4,1]\n",
    "]\n",
    "\n",
    "来源：力扣（LeetCode）\n",
    "链接：https://leetcode-cn.com/problems/pascals-triangle\n",
    "著作权归领扣网络所有。商业转载请联系官方授权，非商业转载请注明出处。"
   ]
  },
  {
   "cell_type": "code",
   "execution_count": 9,
   "metadata": {},
   "outputs": [],
   "source": [
    "class Solution:\n",
    "    def generate(self, numRows: int):\n",
    "        ans = []\n",
    "        if numRows >= 1:\n",
    "            ans.append([1])\n",
    "        if numRows >= 2:\n",
    "            ans.append([1, 1])\n",
    "        if numRows >= 3:\n",
    "            last = [1, 1]\n",
    "            for num in range(3, numRows + 1):\n",
    "                tmp = [1] * num\n",
    "                for i in range(1, num-1):\n",
    "                    tmp[i] = last[i] + last[i-1]\n",
    "                ans.append(tmp)\n",
    "                last = tmp\n",
    "        return ans"
   ]
  },
  {
   "cell_type": "code",
   "execution_count": 10,
   "metadata": {},
   "outputs": [
    {
     "data": {
      "text/plain": [
       "[[1], [1, 1], [1, 2, 1], [1, 3, 3, 1], [1, 4, 6, 4, 1]]"
      ]
     },
     "execution_count": 10,
     "metadata": {},
     "output_type": "execute_result"
    }
   ],
   "source": [
    "Solution().generate(5)"
   ]
  },
  {
   "cell_type": "code",
   "execution_count": 4,
   "metadata": {},
   "outputs": [],
   "source": [
    "for i in range(0):\n",
    "    print(i)"
   ]
  },
  {
   "cell_type": "code",
   "execution_count": null,
   "metadata": {},
   "outputs": [],
   "source": []
  }
 ],
 "metadata": {
  "kernelspec": {
   "display_name": "Python 3",
   "language": "python",
   "name": "python3"
  },
  "language_info": {
   "codemirror_mode": {
    "name": "ipython",
    "version": 3
   },
   "file_extension": ".py",
   "mimetype": "text/x-python",
   "name": "python",
   "nbconvert_exporter": "python",
   "pygments_lexer": "ipython3",
   "version": "3.7.4"
  }
 },
 "nbformat": 4,
 "nbformat_minor": 4
}
