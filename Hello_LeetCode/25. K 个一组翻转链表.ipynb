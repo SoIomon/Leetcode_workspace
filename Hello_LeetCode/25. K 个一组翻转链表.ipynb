{
 "cells": [
  {
   "cell_type": "markdown",
   "metadata": {},
   "source": [
    "给你一个链表，每 k 个节点一组进行翻转，请你返回翻转后的链表。\n",
    "\n",
    "k 是一个正整数，它的值小于或等于链表的长度。\n",
    "\n",
    "如果节点总数不是 k 的整数倍，那么请将最后剩余的节点保持原有顺序。\n",
    "\n",
    " \n",
    "\n",
    "示例：\n",
    "\n",
    "给你这个链表：1->2->3->4->5\n",
    "\n",
    "当 k = 2 时，应当返回: 2->1->4->3->5\n",
    "\n",
    "当 k = 3 时，应当返回: 3->2->1->4->5\n",
    "\n",
    " \n",
    "\n",
    "说明：\n",
    "\n",
    "你的算法只能使用常数的额外空间。\n",
    "你不能只是单纯的改变节点内部的值，而是需要实际进行节点交换。\n",
    "\n",
    "\n",
    "来源：力扣（LeetCode）\n",
    "链接：https://leetcode-cn.com/problems/reverse-nodes-in-k-group\n",
    "著作权归领扣网络所有。商业转载请联系官方授权，非商业转载请注明出处。"
   ]
  },
  {
   "cell_type": "code",
   "execution_count": 1,
   "metadata": {},
   "outputs": [],
   "source": [
    "from typing import List\n",
    "# Definition for singly-linked list.\n",
    "class ListNode:\n",
    "    def __init__(self, x):\n",
    "        self.val = x\n",
    "        self.next = None\n",
    "        \n",
    "    def show(self):\n",
    "        p = self\n",
    "        while p != None:\n",
    "            print(p.val, end=' ')\n",
    "            p = p.next\n",
    "        print('\\n')"
   ]
  },
  {
   "cell_type": "code",
   "execution_count": 75,
   "metadata": {},
   "outputs": [],
   "source": [
    "class Solution:\n",
    "    def reverseKGroup(self, head: ListNode, k: int) -> ListNode:\n",
    "        self.stack = []\n",
    "        p = ListNode(-1)\n",
    "        result = p\n",
    "        # 状态标志\n",
    "        flag = True\n",
    "        temp_head = head\n",
    "        while head:\n",
    "            for i in range(k):\n",
    "                if not head:\n",
    "                    flag = False\n",
    "                    break\n",
    "                self.stack.append(head)\n",
    "                head = head.next\n",
    "            if not flag:\n",
    "                break\n",
    "            else:\n",
    "                # 更新翻转后的进行连接的节点\n",
    "                temp_head = head\n",
    "            for i in range(k):\n",
    "                cur = self.stack.pop()\n",
    "                p.next = cur\n",
    "                p = cur\n",
    "            # 翻转后和后面的节点相连\n",
    "            p.next = temp_head\n",
    "        return result.next\n"
   ]
  },
  {
   "cell_type": "code",
   "execution_count": 76,
   "metadata": {},
   "outputs": [
    {
     "name": "stdout",
     "output_type": "stream",
     "text": [
      "1 2 3 4 \n",
      "\n"
     ]
    }
   ],
   "source": [
    "a = [1,2,3,4]\n",
    "aa = ListNode(a[0])\n",
    "p = aa\n",
    "for i in a[1:]:\n",
    "    p.next = ListNode(i)\n",
    "    p = p.next\n",
    "aa.show()"
   ]
  },
  {
   "cell_type": "code",
   "execution_count": 77,
   "metadata": {},
   "outputs": [
    {
     "name": "stdout",
     "output_type": "stream",
     "text": [
      "4 3 2 1 \n",
      "\n"
     ]
    }
   ],
   "source": [
    "Solution().reverseKGroup(aa, 4).show()"
   ]
  },
  {
   "cell_type": "code",
   "execution_count": null,
   "metadata": {},
   "outputs": [],
   "source": []
  }
 ],
 "metadata": {
  "kernelspec": {
   "display_name": "Python 3",
   "language": "python",
   "name": "python3"
  },
  "language_info": {
   "codemirror_mode": {
    "name": "ipython",
    "version": 3
   },
   "file_extension": ".py",
   "mimetype": "text/x-python",
   "name": "python",
   "nbconvert_exporter": "python",
   "pygments_lexer": "ipython3",
   "version": "3.7.4"
  }
 },
 "nbformat": 4,
 "nbformat_minor": 4
}
