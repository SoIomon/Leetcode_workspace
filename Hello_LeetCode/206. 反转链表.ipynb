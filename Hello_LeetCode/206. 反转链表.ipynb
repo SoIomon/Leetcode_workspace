{
 "cells": [
  {
   "cell_type": "markdown",
   "metadata": {},
   "source": [
    "反转一个单链表。\n",
    "\n",
    "示例:\n",
    "\n",
    "输入: 1->2->3->4->5->NULL\n",
    "输出: 5->4->3->2->1->NULL\n",
    "进阶:\n",
    "你可以迭代或递归地反转链表。你能否用两种方法解决这道题？\n",
    "\n",
    "来源：力扣（LeetCode）\n",
    "链接：https://leetcode-cn.com/problems/reverse-linked-list\n",
    "著作权归领扣网络所有。商业转载请联系官方授权，非商业转载请注明出处。"
   ]
  },
  {
   "cell_type": "code",
   "execution_count": 34,
   "metadata": {},
   "outputs": [],
   "source": [
    "# Definition for singly-linked list.\n",
    "class ListNode:\n",
    "    def __init__(self, x):\n",
    "        self.val = x\n",
    "        self.next = None\n",
    "        \n",
    "    def show(self):\n",
    "        p = self\n",
    "        while p is not None:\n",
    "            print(p.val, end=' ')\n",
    "            p = p.next\n",
    "        print('\\n')"
   ]
  },
  {
   "cell_type": "code",
   "execution_count": 54,
   "metadata": {},
   "outputs": [],
   "source": [
    "class Solution:\n",
    "    # 头插法\n",
    "    def reverseList(self, head: ListNode) -> ListNode:\n",
    "        dummhead = ListNode(0)\n",
    "        p = head\n",
    "        while p != None:\n",
    "            q = p.next\n",
    "            p.next = dummhead.next\n",
    "            dummhead.next = p\n",
    "            p = q\n",
    "        return dummhead.next"
   ]
  },
  {
   "cell_type": "code",
   "execution_count": 59,
   "metadata": {},
   "outputs": [],
   "source": [
    "class Solution:\n",
    "    # 递归\n",
    "    def reverseList(self, head: ListNode) -> ListNode:\n",
    "        # 基线条件:长度小于二，直接返回\n",
    "        if head == None or head.next == None:\n",
    "            return head\n",
    "        # 递归条件\n",
    "        p = head.next\n",
    "        q = self.reverseList(head.next)\n",
    "        p.next = head\n",
    "        head.next = None\n",
    "        return q"
   ]
  },
  {
   "cell_type": "code",
   "execution_count": 57,
   "metadata": {},
   "outputs": [
    {
     "name": "stdout",
     "output_type": "stream",
     "text": [
      "1 2 3 4 5 \n",
      "\n"
     ]
    }
   ],
   "source": [
    "a = [1,2,3,4,5]\n",
    "aa = ListNode(a[0])\n",
    "p = aa\n",
    "for i in a[1:]:\n",
    "    p.next = ListNode(i)\n",
    "    p = p.next\n",
    "aa.show()"
   ]
  },
  {
   "cell_type": "code",
   "execution_count": 58,
   "metadata": {},
   "outputs": [
    {
     "name": "stdout",
     "output_type": "stream",
     "text": [
      "5 4 3 2 1 \n",
      "\n"
     ]
    }
   ],
   "source": [
    "bb = Solution().reverseList(aa)\n",
    "bb.show()"
   ]
  },
  {
   "cell_type": "code",
   "execution_count": null,
   "metadata": {},
   "outputs": [],
   "source": []
  }
 ],
 "metadata": {
  "kernelspec": {
   "display_name": "Python 3",
   "language": "python",
   "name": "python3"
  },
  "language_info": {
   "codemirror_mode": {
    "name": "ipython",
    "version": 3
   },
   "file_extension": ".py",
   "mimetype": "text/x-python",
   "name": "python",
   "nbconvert_exporter": "python",
   "pygments_lexer": "ipython3",
   "version": "3.7.4"
  }
 },
 "nbformat": 4,
 "nbformat_minor": 4
}
