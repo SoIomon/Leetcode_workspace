{
 "cells": [
  {
   "cell_type": "markdown",
   "metadata": {},
   "source": [
    "给定一棵二叉树，想象自己站在它的右侧，按照从顶部到底部的顺序，返回从右侧所能看到的节点值。"
   ]
  },
  {
   "cell_type": "code",
   "execution_count": 3,
   "metadata": {},
   "outputs": [],
   "source": [
    "# Definition for a binary tree node.\n",
    "from typing import List\n",
    "class TreeNode:\n",
    "    def __init__(self, x):\n",
    "        self.val = x\n",
    "        self.left = None\n",
    "        self.right = None\n",
    "\n",
    "class Solution:\n",
    "    def rightSideView(self, root: TreeNode) -> List[int]:\n",
    "        if root == None:\n",
    "            return []\n",
    "        ans = [root.val]\n",
    "        queue = [root]\n",
    "        \n",
    "        while queue != []:\n",
    "            tmp = []\n",
    "            while queue != []:\n",
    "                a = queue.pop(0)\n",
    "                if a.left != None:\n",
    "                    tmp.append(a.left)\n",
    "                if a.right != None:\n",
    "                    tmp.append(a.right)\n",
    "            if tmp != []:\n",
    "                ans.append(tmp[-1].val)\n",
    "            queue = tmp\n",
    "        return ans"
   ]
  },
  {
   "cell_type": "code",
   "execution_count": null,
   "metadata": {},
   "outputs": [],
   "source": []
  }
 ],
 "metadata": {
  "kernelspec": {
   "display_name": "Python 3",
   "language": "python",
   "name": "python3"
  },
  "language_info": {
   "codemirror_mode": {
    "name": "ipython",
    "version": 3
   },
   "file_extension": ".py",
   "mimetype": "text/x-python",
   "name": "python",
   "nbconvert_exporter": "python",
   "pygments_lexer": "ipython3",
   "version": "3.7.4"
  }
 },
 "nbformat": 4,
 "nbformat_minor": 4
}
