{
 "cells": [
  {
   "cell_type": "markdown",
   "metadata": {},
   "source": [
    "\n",
    "有效括号字符串 仅由 \"(\" 和 \")\" 构成，并符合下述几个条件之一：\n",
    "\n",
    "空字符串\n",
    "连接，可以记作 AB（A 与 B 连接），其中 A 和 B 都是有效括号字符串\n",
    "\n",
    "嵌套，可以记作 (A)，其中 A 是有效括号字符串\n",
    "\n",
    "类似地，我们可以定义任意有效括号字符串 s 的 嵌套深度 depth(S)：\n",
    "\n",
    "\n",
    "s 为空时，depth(\"\") = 0\n",
    "\n",
    "s 为 A 与 B 连接时，depth(A + B) = max(depth(A), depth(B))，其中 A 和 B 都是有效括号字符串\n",
    "\n",
    "s 为嵌套情况，depth(\"(\" + A + \")\") = 1 + depth(A)，其中 A 是有效括号字符串\n",
    "\n",
    "例如：\"\"，\"()()\"，和 \"()(()())\" 都是有效括号字符串，嵌套深度分别为 0，1，2，而 \")(\" 和 \"(()\" 都不是有效括号字符串。\n",
    "\n",
    "\n",
    " \n",
    "\n",
    "给你一个有效括号字符串 seq，将其分成两个不相交的子序列 A 和 B，且 A 和 B 满足有效括号字符串的定义（注意：A.length + B.length = seq.length）。\n",
    "\n",
    "现在，你需要从中选出 任意 一组有效括号字符串 A 和 B，使 max(depth(A), depth(B)) 的可能取值最小。\n",
    "\n",
    "返回长度为 seq.length 答案数组 answer ，选择 A 还是 B 的编码规则是：如果 seq[i] 是 A 的一部分，那么 answer[i] = 0。否则，answer[i] = 1。即便有多个满足要求的答案存在，你也只需返回 一个。\n",
    "\n",
    " \n",
    "\n",
    "示例 1：\n",
    "\n",
    "输入：seq = \"(()())\"\n",
    "输出：[0,1,1,1,1,0]\n",
    "示例 2：\n",
    "\n",
    "输入：seq = \"()(())()\"\n",
    "输出：[0,0,0,1,1,0,1,1]"
   ]
  },
  {
   "cell_type": "code",
   "execution_count": 23,
   "metadata": {},
   "outputs": [],
   "source": [
    "def maxDepthAfterSplit(seq: str):\n",
    "    s_0 = []\n",
    "    s_1 = []\n",
    "    la = []\n",
    "    result = []\n",
    "    \n",
    "    for i in seq:\n",
    "        if i == ')':\n",
    "            a = la.pop()\n",
    "            if a == 1:\n",
    "                _ = s_1.pop()\n",
    "            else:\n",
    "                _ = s_0.pop()\n",
    "        if i == '(':\n",
    "            if len(s_0) <= len(s_1):\n",
    "                s_0.append(i)\n",
    "                a = 0\n",
    "            else:\n",
    "                s_1.append(i)\n",
    "                a = 1\n",
    "            la.append(a)\n",
    "        result.append(a)\n",
    "    return result"
   ]
  },
  {
   "cell_type": "code",
   "execution_count": 53,
   "metadata": {},
   "outputs": [],
   "source": [
    "def maxDepthAfterSplit(seq: str):\n",
    "    tmp = [0, 0]\n",
    "    result = []\n",
    "    for i in seq:\n",
    "        if i == '(':\n",
    "            index = 0\n",
    "            if tmp[0] > tmp[1]:\n",
    "                index = 1\n",
    "            tmp[index] += 1\n",
    "        else:\n",
    "            index = 1\n",
    "            if tmp[0] > tmp[1]:\n",
    "                index = 0\n",
    "            tmp[index] -= 1\n",
    "        result.append(index)\n",
    "    return result"
   ]
  },
  {
   "cell_type": "code",
   "execution_count": 54,
   "metadata": {},
   "outputs": [
    {
     "data": {
      "text/plain": [
       "[0, 1, 1, 0]"
      ]
     },
     "execution_count": 54,
     "metadata": {},
     "output_type": "execute_result"
    }
   ],
   "source": [
    "maxDepthAfterSplit('(())')"
   ]
  },
  {
   "cell_type": "code",
   "execution_count": 4,
   "metadata": {},
   "outputs": [
    {
     "data": {
      "text/plain": [
       "[1]"
      ]
     },
     "execution_count": 4,
     "metadata": {},
     "output_type": "execute_result"
    }
   ],
   "source": [
    "a = [1,3]\n",
    "a.pop()\n",
    "a"
   ]
  },
  {
   "cell_type": "code",
   "execution_count": null,
   "metadata": {},
   "outputs": [],
   "source": []
  }
 ],
 "metadata": {
  "kernelspec": {
   "display_name": "Python 3",
   "language": "python",
   "name": "python3"
  },
  "language_info": {
   "codemirror_mode": {
    "name": "ipython",
    "version": 3
   },
   "file_extension": ".py",
   "mimetype": "text/x-python",
   "name": "python",
   "nbconvert_exporter": "python",
   "pygments_lexer": "ipython3",
   "version": "3.7.4"
  }
 },
 "nbformat": 4,
 "nbformat_minor": 4
}
