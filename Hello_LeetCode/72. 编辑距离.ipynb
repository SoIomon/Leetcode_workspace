{
 "cells": [
  {
   "cell_type": "markdown",
   "metadata": {},
   "source": [
    "给你两个单词 word1 和 word2，请你计算出将 word1 转换成 word2 所使用的最少操作数 。\n",
    "\n",
    "你可以对一个单词进行如下三种操作：\n",
    "\n",
    "插入一个字符\n",
    "删除一个字符\n",
    "替换一个字符\n",
    " \n",
    "\n",
    "示例 1：\n",
    "\n",
    "输入：word1 = \"horse\", word2 = \"ros\"\n",
    "\n",
    "输出：3\n",
    "\n",
    "解释：\n",
    "\n",
    "horse -> rorse (将 'h' 替换为 'r')\n",
    "\n",
    "rorse -> rose (删除 'r')\n",
    "\n",
    "rose -> ros (删除 'e')\n",
    "\n",
    "示例 2：\n",
    "\n",
    "输入：word1 = \"intention\", word2 = \"execution\"\n",
    "\n",
    "输出：5\n",
    "\n",
    "解释：\n",
    "\n",
    "intention -> inention (删除 't')\n",
    "\n",
    "inention -> enention (将 'i' 替换为 'e')\n",
    "\n",
    "enention -> exention (将 'n' 替换为 'x')\n",
    "\n",
    "exention -> exection (将 'n' 替换为 'c')\n",
    "\n",
    "exection -> execution (插入 'u')\n",
    "\n",
    "\n",
    "来源：力扣（LeetCode）\n",
    "链接：https://leetcode-cn.com/problems/edit-distance\n",
    "著作权归领扣网络所有。商业转载请联系官方授权，非商业转载请注明出处。"
   ]
  },
  {
   "cell_type": "code",
   "execution_count": 25,
   "metadata": {},
   "outputs": [],
   "source": [
    "class Solution:\n",
    "    def minDistance(self, word1: str, word2: str) -> int:\n",
    "        # 递归\n",
    "        if word1 == word2:\n",
    "            return  0\n",
    "        if word1 == '' or word2 == '':\n",
    "            return len(word1) + len(word2)\n",
    "        # 三种情况\n",
    "        a = self.minDistance(word1[:-1], word2[:-1])\n",
    "        a = a if word1[-1] == word2[-1] else a + 1\n",
    "        b = self.minDistance(word1[:-1], word2) + 1\n",
    "        c = self.minDistance(word1, word2[:-1]) + 1\n",
    "        return min(a,b,c)"
   ]
  },
  {
   "cell_type": "code",
   "execution_count": 60,
   "metadata": {},
   "outputs": [],
   "source": [
    "class Solution:\n",
    "    def minDistance(self, word1: str, word2: str) -> int:\n",
    "        # 自底向上\n",
    "        # 处理空串\n",
    "        if word1 == '' or word2 == '':\n",
    "            return len(word1) + len(word2)\n",
    "        # 赋初始值\n",
    "        m = len(word1)\n",
    "        n = len(word2)\n",
    "        D = [[j+i for i in range(n + 1)] for j in range(m + 1)]\n",
    "        # 计算\n",
    "        for i in range(1, m+1):\n",
    "            for j in range(1, n+1):\n",
    "                if word1[i-1] == word2[j-1]:\n",
    "                    D[i][j] = min(D[i-1][j]+1, D[i][j-1]+1, D[i-1][j-1])\n",
    "                else:\n",
    "                    D[i][j] = min(D[i-1][j], D[i][j-1], D[i-1][j-1]) + 1\n",
    "        return D[m][n]"
   ]
  },
  {
   "cell_type": "code",
   "execution_count": 61,
   "metadata": {},
   "outputs": [
    {
     "name": "stdout",
     "output_type": "stream",
     "text": [
      "[[0, 1, 2, 3], [1, 1, 2, 3], [2, 2, 1, 2], [3, 2, 2, 2], [4, 3, 3, 2], [5, 4, 4, 3]]\n"
     ]
    },
    {
     "data": {
      "text/plain": [
       "3"
      ]
     },
     "execution_count": 61,
     "metadata": {},
     "output_type": "execute_result"
    }
   ],
   "source": [
    "word1 = \"horse\"\n",
    "word2 = \"ros\"\n",
    "Solution().minDistance(word1, word2)"
   ]
  },
  {
   "cell_type": "code",
   "execution_count": 41,
   "metadata": {},
   "outputs": [
    {
     "data": {
      "text/plain": [
       "[[0, 1, 2], [1, 3, 3], [2, 3, 4], [3, 4, 5], [4, 5, 6]]"
      ]
     },
     "execution_count": 41,
     "metadata": {},
     "output_type": "execute_result"
    }
   ],
   "source": [
    "m = 4\n",
    "n = 2\n",
    "D = [[j+i for i in range(n + 1)] for j in range(m + 1)]\n",
    "D[1][1] = 3\n",
    "D"
   ]
  },
  {
   "cell_type": "code",
   "execution_count": 35,
   "metadata": {},
   "outputs": [
    {
     "data": {
      "text/plain": [
       "1"
      ]
     },
     "execution_count": 35,
     "metadata": {},
     "output_type": "execute_result"
    }
   ],
   "source": [
    "D[0][1]"
   ]
  },
  {
   "cell_type": "code",
   "execution_count": null,
   "metadata": {},
   "outputs": [],
   "source": []
  }
 ],
 "metadata": {
  "kernelspec": {
   "display_name": "Python 3",
   "language": "python",
   "name": "python3"
  },
  "language_info": {
   "codemirror_mode": {
    "name": "ipython",
    "version": 3
   },
   "file_extension": ".py",
   "mimetype": "text/x-python",
   "name": "python",
   "nbconvert_exporter": "python",
   "pygments_lexer": "ipython3",
   "version": "3.7.4"
  }
 },
 "nbformat": 4,
 "nbformat_minor": 4
}
