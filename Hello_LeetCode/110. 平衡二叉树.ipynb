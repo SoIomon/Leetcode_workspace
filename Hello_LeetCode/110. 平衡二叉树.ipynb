{
 "cells": [
  {
   "cell_type": "code",
   "execution_count": 1,
   "metadata": {},
   "outputs": [],
   "source": [
    "# Definition for a binary tree node.\n",
    "class TreeNode:\n",
    "    def __init__(self, x):\n",
    "        self.val = x\n",
    "        self.left = None\n",
    "        self.right = None\n",
    "\n",
    "class Solution:\n",
    "    def maxDepth(self, root: TreeNode) -> int:\n",
    "        if root is None:\n",
    "            return 0\n",
    "        q = [root]\n",
    "        p = []\n",
    "        depth = 1\n",
    "        while q != []:\n",
    "            while q != []:\n",
    "                tmp = q.pop()\n",
    "                if tmp.left is not None:\n",
    "                    p.append(tmp.left)\n",
    "                if tmp.right is not None:\n",
    "                    p.append(tmp.right)\n",
    "            q, p = p, q\n",
    "            depth += 1\n",
    "        return depth - 1\n",
    "\n",
    "    def isBalanced(self, root: TreeNode) -> bool:\n",
    "        if root is None:\n",
    "            return True\n",
    "        return abs(self.maxDepth(root.right)-self.maxDepth(root.left))<=1 and self.isBalanced(root.right) and self.isBalanced(root.left)"
   ]
  },
  {
   "cell_type": "code",
   "execution_count": 2,
   "metadata": {},
   "outputs": [],
   "source": [
    "class Solution:\n",
    "    def isBalancedHelper(self, root: TreeNode) -> (bool, int):\n",
    "        if root is None:\n",
    "            return True, -1\n",
    "        # 判断左右子树\n",
    "        left_flag, left_height = self.isBalancedHelper(root.left)\n",
    "        if left_flag is False:\n",
    "            return False, 0\n",
    "        right_flag, right_height = self.isBalancedHelper(root.right)\n",
    "        if right_flag is False:\n",
    "            return False, 0\n",
    "        # 根节点情况\n",
    "        return abs(left_height - right_height) <= 1, max(left_height, right_height) + 1\n",
    "\n",
    "    def isBalanced(self, root: TreeNode) -> bool:\n",
    "        return self.isBalancedHelper(root)[0]"
   ]
  },
  {
   "cell_type": "code",
   "execution_count": null,
   "metadata": {},
   "outputs": [],
   "source": []
  }
 ],
 "metadata": {
  "kernelspec": {
   "display_name": "Python 3",
   "language": "python",
   "name": "python3"
  },
  "language_info": {
   "codemirror_mode": {
    "name": "ipython",
    "version": 3
   },
   "file_extension": ".py",
   "mimetype": "text/x-python",
   "name": "python",
   "nbconvert_exporter": "python",
   "pygments_lexer": "ipython3",
   "version": "3.7.4"
  }
 },
 "nbformat": 4,
 "nbformat_minor": 4
}
