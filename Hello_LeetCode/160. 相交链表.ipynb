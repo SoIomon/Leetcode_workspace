{
 "cells": [
  {
   "cell_type": "code",
   "execution_count": null,
   "metadata": {},
   "outputs": [],
   "source": [
    "# Definition for singly-linked list.\n",
    "# class ListNode:\n",
    "#     def __init__(self, x):\n",
    "#         self.val = x\n",
    "#         self.next = None\n",
    "\n",
    "class Solution:\n",
    "    def getIntersectionNode(self, headA: ListNode, headB: ListNode) -> ListNode:\n",
    "        lena = 0\n",
    "        lenb = 0\n",
    "\n",
    "        p = headA\n",
    "        while p is not None:\n",
    "            lena += 1\n",
    "            p = p.next\n",
    "        p = headB\n",
    "        while p is not None:\n",
    "            lenb += 1\n",
    "            p = p.next\n",
    "        \n",
    "        if lena >= lenb:\n",
    "            p, q = headA, headB\n",
    "        else:\n",
    "            q, p = headA, headB\n",
    "        \n",
    "        for i in range(abs(lenb - lena)):\n",
    "            p = p.next\n",
    "        \n",
    "        for i in range(min(lena,lenb)):\n",
    "            if p == q:\n",
    "                return p\n",
    "            p = p.next\n",
    "            q = q.next\n",
    "        \n",
    "        return"
   ]
  }
 ],
 "metadata": {
  "kernelspec": {
   "display_name": "Python 3",
   "language": "python",
   "name": "python3"
  },
  "language_info": {
   "codemirror_mode": {
    "name": "ipython",
    "version": 3
   },
   "file_extension": ".py",
   "mimetype": "text/x-python",
   "name": "python",
   "nbconvert_exporter": "python",
   "pygments_lexer": "ipython3",
   "version": "3.7.4"
  }
 },
 "nbformat": 4,
 "nbformat_minor": 4
}
