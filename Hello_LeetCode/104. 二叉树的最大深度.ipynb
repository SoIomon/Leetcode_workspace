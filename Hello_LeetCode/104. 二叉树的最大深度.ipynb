{
 "cells": [
  {
   "cell_type": "code",
   "execution_count": null,
   "metadata": {},
   "outputs": [],
   "source": [
    "# Definition for a binary tree node.\n",
    "class TreeNode:\n",
    "    def __init__(self, x):\n",
    "        self.val = x\n",
    "        self.left = None\n",
    "        self.right = None\n",
    "\n",
    "# class Solution:\n",
    "#     def maxDepth(self, root: TreeNode) -> int:\n",
    "#         if root is None:\n",
    "#             return 0\n",
    "#         else:\n",
    "#             return 1 + max(self.maxDepth(root.left), self.maxDepth(root.right))\n",
    "\n",
    "class Solution:\n",
    "    def maxDepth(self, root: TreeNode) -> int:\n",
    "        if root is None:\n",
    "            return 0\n",
    "        q = [root]\n",
    "        p = []\n",
    "        depth = 1\n",
    "        while q != []:\n",
    "            while q != []:\n",
    "                tmp = q.pop()\n",
    "                if tmp.left is not None:\n",
    "                    p.append(tmp.left)\n",
    "                if tmp.right is not None:\n",
    "                    p.append(tmp.right)\n",
    "            q, p = p, q\n",
    "            depth += 1\n",
    "        return depth - 1"
   ]
  }
 ],
 "metadata": {
  "kernelspec": {
   "display_name": "Python 3",
   "language": "python",
   "name": "python3"
  },
  "language_info": {
   "codemirror_mode": {
    "name": "ipython",
    "version": 3
   },
   "file_extension": ".py",
   "mimetype": "text/x-python",
   "name": "python",
   "nbconvert_exporter": "python",
   "pygments_lexer": "ipython3",
   "version": "3.7.4"
  }
 },
 "nbformat": 4,
 "nbformat_minor": 4
}
