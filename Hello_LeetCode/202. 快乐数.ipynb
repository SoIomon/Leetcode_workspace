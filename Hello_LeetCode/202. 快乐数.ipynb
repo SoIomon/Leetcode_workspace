{
 "cells": [
  {
   "cell_type": "code",
   "execution_count": 1,
   "metadata": {},
   "outputs": [],
   "source": [
    "class Solution:\n",
    "    def isHappy(self, n: int) -> bool:\n",
    "        visited = set()\n",
    "\n",
    "        while n != 1:\n",
    "            if n in visited:\n",
    "                return False\n",
    "            else:\n",
    "                visited.add(n)\n",
    "                tmp = 0\n",
    "                while n != 0:\n",
    "                    tmp += (n % 10) ** 2\n",
    "                    n //= 10\n",
    "                n = tmp\n",
    "        return True"
   ]
  },
  {
   "cell_type": "code",
   "execution_count": null,
   "metadata": {},
   "outputs": [],
   "source": []
  }
 ],
 "metadata": {
  "kernelspec": {
   "display_name": "Python 3",
   "language": "python",
   "name": "python3"
  },
  "language_info": {
   "codemirror_mode": {
    "name": "ipython",
    "version": 3
   },
   "file_extension": ".py",
   "mimetype": "text/x-python",
   "name": "python",
   "nbconvert_exporter": "python",
   "pygments_lexer": "ipython3",
   "version": "3.7.4"
  }
 },
 "nbformat": 4,
 "nbformat_minor": 4
}
