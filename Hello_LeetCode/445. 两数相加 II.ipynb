{
 "cells": [
  {
   "cell_type": "markdown",
   "metadata": {},
   "source": [
    "给你两个 非空 链表来代表两个非负整数。数字最高位位于链表开始位置。它们的每个节点只存储一位数字。将这两数相加会返回一个新的链表。\n",
    "\n",
    "你可以假设除了数字 0 之外，这两个数字都不会以零开头。\n",
    "\n",
    " \n",
    "\n",
    "进阶：\n",
    "\n",
    "如果输入链表不能修改该如何处理？换句话说，你不能对列表中的节点进行翻转。\n",
    "\n",
    " \n",
    "\n",
    "示例：\n",
    "\n",
    "输入：(7 -> 2 -> 4 -> 3) + (5 -> 6 -> 4)\n",
    "输出：7 -> 8 -> 0 -> 7\n",
    "\n",
    "来源：力扣（LeetCode）\n",
    "链接：https://leetcode-cn.com/problems/add-two-numbers-ii\n",
    "著作权归领扣网络所有。商业转载请联系官方授权，非商业转载请注明出处。"
   ]
  },
  {
   "cell_type": "code",
   "execution_count": 4,
   "metadata": {},
   "outputs": [],
   "source": [
    "# Definition for singly-linked list.\n",
    "from typing import List\n",
    "class ListNode:\n",
    "    def __init__(self, x):\n",
    "        self.val = x\n",
    "        self.next = None\n",
    "        \n",
    "    def showList(self):\n",
    "        p = self\n",
    "        while(p is not None):\n",
    "            print(p.val)\n",
    "            p = p.next"
   ]
  },
  {
   "cell_type": "code",
   "execution_count": 10,
   "metadata": {},
   "outputs": [],
   "source": [
    "class Solution:\n",
    "    def addTwoNumbers(self, l1: ListNode, l2: ListNode) -> ListNode:\n",
    "        stack1 = []\n",
    "        stack2 = []\n",
    "        ans = []\n",
    "        \n",
    "        p = l1\n",
    "        while p != None:\n",
    "            stack1.append(p.val)\n",
    "            p = p.next        \n",
    "        p = l2\n",
    "        while p != None:\n",
    "            stack2.append(p.val)\n",
    "            p = p.next\n",
    "        \n",
    "        carry = 0\n",
    "        while stack1 != [] or stack2 != [] or carry != 0:\n",
    "            a = 0 if stack1 == [] else stack1.pop()\n",
    "            b = 0 if stack2 == [] else stack2.pop()\n",
    "            \n",
    "            tmp = a + b + carry\n",
    "            ans.append(tmp%10)\n",
    "            carry = tmp // 10\n",
    "        \n",
    "        ans = ans[::-1]\n",
    "        result = ListNode(ans[0])\n",
    "        p = result\n",
    "        for i in ans[1:]:\n",
    "            p.next = ListNode(i)\n",
    "            p = p.next\n",
    "        return result"
   ]
  },
  {
   "cell_type": "code",
   "execution_count": 7,
   "metadata": {},
   "outputs": [],
   "source": [
    "a = [11]\n",
    "b = 0 if a == [] else a.pop()"
   ]
  }
 ],
 "metadata": {
  "kernelspec": {
   "display_name": "Python 3",
   "language": "python",
   "name": "python3"
  },
  "language_info": {
   "codemirror_mode": {
    "name": "ipython",
    "version": 3
   },
   "file_extension": ".py",
   "mimetype": "text/x-python",
   "name": "python",
   "nbconvert_exporter": "python",
   "pygments_lexer": "ipython3",
   "version": "3.7.4"
  }
 },
 "nbformat": 4,
 "nbformat_minor": 4
}
