{
 "cells": [
  {
   "cell_type": "markdown",
   "metadata": {},
   "source": [
    "给你一个由 '1'（陆地）和 '0'（水）组成的的二维网格，请你计算网格中岛屿的数量。\n",
    "\n",
    "岛屿总是被水包围，并且每座岛屿只能由水平方向和/或竖直方向上相邻的陆地连接形成。\n",
    "\n",
    "此外，你可以假设该网格的四条边均被水包围。\n",
    "\n",
    "示例 1:\n",
    "\n",
    "输入:\n",
    "11110\n",
    "11010\n",
    "11000\n",
    "00000\n",
    "输出: 1\n",
    "示例 2:\n",
    "\n",
    "输入:\n",
    "11000\n",
    "11000\n",
    "00100\n",
    "00011\n",
    "输出: 3\n",
    "解释: 每座岛屿只能由水平和/或竖直方向上相邻的陆地连接而成。\n",
    "\n",
    "来源：力扣（LeetCode）\n",
    "链接：https://leetcode-cn.com/problems/number-of-islands\n",
    "著作权归领扣网络所有。商业转载请联系官方授权，非商业转载请注明出处。"
   ]
  },
  {
   "cell_type": "code",
   "execution_count": 8,
   "metadata": {},
   "outputs": [],
   "source": [
    "from typing import List\n",
    "class Solution:\n",
    "    def dfs(self, grid, r, c):\n",
    "        grid[r][c] = 0\n",
    "        nr, nc = len(grid), len(grid[0])\n",
    "        for x, y in [(r - 1, c), (r + 1, c), (r, c - 1), (r, c + 1)]:\n",
    "            if 0 <= x < nr and 0 <= y < nc and grid[x][y] == \"1\":\n",
    "                self.dfs(grid, x, y)\n",
    "\n",
    "    def numIslands(self, grid: List[List[str]]) -> int:\n",
    "        nr = len(grid)\n",
    "        if nr == 0:\n",
    "            return 0\n",
    "        nc = len(grid[0])\n",
    "\n",
    "        num_islands = 0\n",
    "        for r in range(nr):\n",
    "            for c in range(nc):\n",
    "                if grid[r][c] == \"1\":\n",
    "                    num_islands += 1\n",
    "                    self.dfs(grid, r, c)\n",
    "        \n",
    "        return num_islands"
   ]
  },
  {
   "cell_type": "code",
   "execution_count": 18,
   "metadata": {},
   "outputs": [],
   "source": [
    "class Solution:\n",
    "    def numIslands(self, grid: List[List[str]]) -> int:\n",
    "        count = 0\n",
    "        visited = [[0 for _ in range(len(grid[0]))] for _ in range(len(grid))]\n",
    "        direction = [(1,0),(-1,0),(0,1),(0,-1)]\n",
    "        queue = []\n",
    "        for i, lis in enumerate(grid):\n",
    "            for j, c in enumerate(lis):\n",
    "                if grid[i][j] == '0':\n",
    "                    visited[i][j] = 1\n",
    "                if grid[i][j] == '1' and visited[i][j] == 0:\n",
    "                    queue.append((i,j))\n",
    "                    while queue != []:\n",
    "                        x, y = queue.pop(0)\n",
    "                        for dx, dy in direction:\n",
    "                            if 0 <= x+dx < len(grid) and 0<= y+dy < len(grid[0]) and visited[x+dx][y+dy] == 0 and grid[x+dx][y+dy] == '1':\n",
    "                                queue.append((x+dx, y+dy))\n",
    "                                visited[x+dx][y+dy] = 1\n",
    "                    count += 1\n",
    "        return count\n",
    "                                "
   ]
  },
  {
   "cell_type": "code",
   "execution_count": 19,
   "metadata": {},
   "outputs": [
    {
     "data": {
      "text/plain": [
       "1"
      ]
     },
     "execution_count": 19,
     "metadata": {},
     "output_type": "execute_result"
    }
   ],
   "source": [
    "Solution().numIslands([[\"1\",\"1\",\"1\",\"1\",\"0\"],[\"1\",\"1\",\"0\",\"1\",\"0\"],[\"1\",\"1\",\"0\",\"0\",\"0\"],[\"0\",\"0\",\"0\",\"0\",\"0\"]])"
   ]
  },
  {
   "cell_type": "code",
   "execution_count": null,
   "metadata": {},
   "outputs": [],
   "source": []
  }
 ],
 "metadata": {
  "kernelspec": {
   "display_name": "Python 3",
   "language": "python",
   "name": "python3"
  },
  "language_info": {
   "codemirror_mode": {
    "name": "ipython",
    "version": 3
   },
   "file_extension": ".py",
   "mimetype": "text/x-python",
   "name": "python",
   "nbconvert_exporter": "python",
   "pygments_lexer": "ipython3",
   "version": "3.7.4"
  }
 },
 "nbformat": 4,
 "nbformat_minor": 4
}
