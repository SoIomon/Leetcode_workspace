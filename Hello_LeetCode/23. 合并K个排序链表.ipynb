{
 "cells": [
  {
   "cell_type": "markdown",
   "metadata": {},
   "source": [
    "合并 k 个排序链表，返回合并后的排序链表。请分析和描述算法的复杂度。\n",
    "\n",
    "示例:\n",
    "\n",
    "输入:\n",
    "[\n",
    "  1->4->5,\n",
    "  1->3->4,\n",
    "  2->6\n",
    "]\n",
    "输出: 1->1->2->3->4->4->5->6\n",
    "\n",
    "来源：力扣（LeetCode）\n",
    "链接：https://leetcode-cn.com/problems/merge-k-sorted-lists\n",
    "著作权归领扣网络所有。商业转载请联系官方授权，非商业转载请注明出处。"
   ]
  },
  {
   "cell_type": "code",
   "execution_count": 11,
   "metadata": {},
   "outputs": [],
   "source": [
    "from typing import List\n",
    "# Definition for singly-linked list.\n",
    "class ListNode:\n",
    "    def __init__(self, x):\n",
    "        self.val = x\n",
    "        self.next = None\n",
    "        \n",
    "    def show(self):\n",
    "        p = self\n",
    "        while p != None:\n",
    "            print(p.val, end=' ')\n",
    "            p = p.next\n",
    "        print('\\n')\n",
    "\n",
    "class Solution:\n",
    "    def mergeKLists(self, lists: List[ListNode]) -> ListNode:\n",
    "        if len(lists) == 1:\n",
    "            return lists[0]\n",
    "        elif lists == []:\n",
    "            return None\n",
    "        else:\n",
    "            ans = []\n",
    "            for linklist in lists:\n",
    "                p = linklist\n",
    "                while p!= None:\n",
    "                    ans.append(p.val)\n",
    "                    p = p.next\n",
    "            ans.sort()\n",
    "            \n",
    "            if ans == []:\n",
    "                return None            \n",
    "            anslist = ListNode(ans[0])\n",
    "            p = anslist\n",
    "            for i in ans[1:]:\n",
    "                p.next = ListNode(i)\n",
    "                p = p.next\n",
    "        return anslist"
   ]
  },
  {
   "cell_type": "code",
   "execution_count": 12,
   "metadata": {},
   "outputs": [
    {
     "name": "stdout",
     "output_type": "stream",
     "text": [
      "1 4 5 \n",
      "\n",
      "1 3 4 \n",
      "\n",
      "2 6 \n",
      "\n"
     ]
    }
   ],
   "source": [
    "a = [[1,4,5], [1,3,4], [2,6]]\n",
    "aa = []\n",
    "for i in a:\n",
    "    tmp = ListNode(i[0])\n",
    "    aa.append(tmp)\n",
    "    for j in i[1:]:\n",
    "        tmp.next = ListNode(j)\n",
    "        tmp = tmp.next\n",
    "for i in aa:\n",
    "    i.show()"
   ]
  },
  {
   "cell_type": "code",
   "execution_count": 14,
   "metadata": {},
   "outputs": [
    {
     "name": "stdout",
     "output_type": "stream",
     "text": [
      "1 1 2 3 4 4 5 6 \n",
      "\n"
     ]
    }
   ],
   "source": [
    "Solution().mergeKLists(aa).show()"
   ]
  },
  {
   "cell_type": "code",
   "execution_count": null,
   "metadata": {},
   "outputs": [],
   "source": []
  }
 ],
 "metadata": {
  "kernelspec": {
   "display_name": "Python 3",
   "language": "python",
   "name": "python3"
  },
  "language_info": {
   "codemirror_mode": {
    "name": "ipython",
    "version": 3
   },
   "file_extension": ".py",
   "mimetype": "text/x-python",
   "name": "python",
   "nbconvert_exporter": "python",
   "pygments_lexer": "ipython3",
   "version": "3.7.4"
  }
 },
 "nbformat": 4,
 "nbformat_minor": 4
}
