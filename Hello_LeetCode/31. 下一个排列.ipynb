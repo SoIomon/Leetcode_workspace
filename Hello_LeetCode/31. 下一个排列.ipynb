{
 "cells": [
  {
   "cell_type": "markdown",
   "metadata": {},
   "source": [
    "实现获取下一个排列的函数，算法需要将给定数字序列重新排列成字典序中下一个更大的排列。\n",
    "\n",
    "如果不存在下一个更大的排列，则将数字重新排列成最小的排列（即升序排列）。\n",
    "\n",
    "必须原地修改，只允许使用额外常数空间。\n",
    "\n",
    "以下是一些例子，输入位于左侧列，其相应输出位于右侧列。\n",
    "1,2,3 → 1,3,2\n",
    "3,2,1 → 1,2,3\n",
    "1,1,5 → 1,5,1\n",
    "\n",
    "来源：力扣（LeetCode）\n",
    "链接：https://leetcode-cn.com/problems/next-permutation\n",
    "著作权归领扣网络所有。商业转载请联系官方授权，非商业转载请注明出处。"
   ]
  },
  {
   "cell_type": "code",
   "execution_count": 37,
   "metadata": {},
   "outputs": [],
   "source": [
    "from typing import List\n",
    "class Solution:\n",
    "    def nextPermutation(self, nums: List[int]) -> None:\n",
    "        \"\"\"\n",
    "        Do not return anything, modify nums in-place instead.\n",
    "        \"\"\"\n",
    "        n = len(nums)\n",
    "        if n <= 1:\n",
    "            return\n",
    "        if n == 2:\n",
    "            nums[0], nums[1] = nums[1], nums[0]\n",
    "            return\n",
    "        \n",
    "        for i in range(n -1)[::-1]:\n",
    "            if nums[i] < nums[i+1]:\n",
    "                break\n",
    "        # 不存在更大排列\n",
    "        if i == 0 and nums[0] > nums[1]:\n",
    "            nums.sort()\n",
    "            return\n",
    "        # i 之后的数列需要更改\n",
    "        else:\n",
    "            tmp = i + 1\n",
    "            for j in range(i+1, n):\n",
    "                if 0 < nums[j] - nums[i] < nums[tmp] - nums[i]:\n",
    "                    tmp = j\n",
    "            nums[i], nums[tmp] = nums[tmp], nums[i]\n",
    "            nums[i+1:] = sorted(nums[i+1:])\n",
    "        return "
   ]
  },
  {
   "cell_type": "code",
   "execution_count": 38,
   "metadata": {},
   "outputs": [
    {
     "data": {
      "text/plain": [
       "[3, 1, 2]"
      ]
     },
     "execution_count": 38,
     "metadata": {},
     "output_type": "execute_result"
    }
   ],
   "source": [
    "a = [2,3,1]\n",
    "Solution().nextPermutation(a)\n",
    "a"
   ]
  },
  {
   "cell_type": "code",
   "execution_count": 14,
   "metadata": {},
   "outputs": [],
   "source": [
    "a = [66,2,3,5,4]"
   ]
  },
  {
   "cell_type": "code",
   "execution_count": 17,
   "metadata": {},
   "outputs": [
    {
     "data": {
      "text/plain": [
       "[66, 2, 3, 4, 5]"
      ]
     },
     "execution_count": 17,
     "metadata": {},
     "output_type": "execute_result"
    }
   ],
   "source": [
    "a[2:] = sorted(a[2:])\n",
    "a"
   ]
  },
  {
   "cell_type": "code",
   "execution_count": null,
   "metadata": {},
   "outputs": [],
   "source": []
  }
 ],
 "metadata": {
  "kernelspec": {
   "display_name": "Python 3",
   "language": "python",
   "name": "python3"
  },
  "language_info": {
   "codemirror_mode": {
    "name": "ipython",
    "version": 3
   },
   "file_extension": ".py",
   "mimetype": "text/x-python",
   "name": "python",
   "nbconvert_exporter": "python",
   "pygments_lexer": "ipython3",
   "version": "3.7.4"
  }
 },
 "nbformat": 4,
 "nbformat_minor": 4
}
